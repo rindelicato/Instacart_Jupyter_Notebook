{
 "cells": [
  {
   "cell_type": "code",
   "execution_count": 2,
   "metadata": {},
   "outputs": [],
   "source": [
    "# Import libraries\n",
    "import pandas as pd\n",
    "import numpy as np\n",
    "import os\n",
    "import matplotlib.pyplot as plt\n",
    "import seaborn as sns\n",
    "import scipy"
   ]
  },
  {
   "cell_type": "code",
   "execution_count": 3,
   "metadata": {},
   "outputs": [],
   "source": [
    "path = r'C:\\Users\\rinde\\Downloads\\Instacart-Basket-Analysis-11-2023\\Instacart Basket Analysis 11-2023'"
   ]
  },
  {
   "cell_type": "code",
   "execution_count": 6,
   "metadata": {},
   "outputs": [
    {
     "ename": "MemoryError",
     "evalue": "",
     "output_type": "error",
     "traceback": [
      "\u001b[1;31m---------------------------------------------------------------------------\u001b[0m",
      "\u001b[1;31mMemoryError\u001b[0m                               Traceback (most recent call last)",
      "Cell \u001b[1;32mIn[6], line 2\u001b[0m\n\u001b[0;32m      1\u001b[0m \u001b[38;5;66;03m# Import dataset\u001b[39;00m\n\u001b[1;32m----> 2\u001b[0m df_ords_prods_big \u001b[38;5;241m=\u001b[39m \u001b[43mpd\u001b[49m\u001b[38;5;241;43m.\u001b[39;49m\u001b[43mread_pickle\u001b[49m\u001b[43m(\u001b[49m\u001b[43mos\u001b[49m\u001b[38;5;241;43m.\u001b[39;49m\u001b[43mpath\u001b[49m\u001b[38;5;241;43m.\u001b[39;49m\u001b[43mjoin\u001b[49m\u001b[43m(\u001b[49m\u001b[43mpath\u001b[49m\u001b[43m,\u001b[49m\u001b[38;5;124;43m'\u001b[39;49m\u001b[38;5;124;43m02 Data\u001b[39;49m\u001b[38;5;124;43m'\u001b[39;49m\u001b[43m,\u001b[49m\u001b[38;5;124;43m'\u001b[39;49m\u001b[38;5;124;43mPrepared Data\u001b[39;49m\u001b[38;5;124;43m'\u001b[39;49m\u001b[43m,\u001b[49m\u001b[38;5;124;43m'\u001b[39;49m\u001b[38;5;124;43morders_products_big.pkl\u001b[39;49m\u001b[38;5;124;43m'\u001b[39;49m\u001b[43m)\u001b[49m\u001b[43m)\u001b[49m\n",
      "File \u001b[1;32m~\\AppData\\Local\\Packages\\PythonSoftwareFoundation.Python.3.11_qbz5n2kfra8p0\\LocalCache\\local-packages\\Python311\\site-packages\\pandas\\io\\pickle.py:196\u001b[0m, in \u001b[0;36mread_pickle\u001b[1;34m(filepath_or_buffer, compression, storage_options)\u001b[0m\n\u001b[0;32m    193\u001b[0m     \u001b[38;5;28;01mwith\u001b[39;00m warnings\u001b[38;5;241m.\u001b[39mcatch_warnings(record\u001b[38;5;241m=\u001b[39m\u001b[38;5;28;01mTrue\u001b[39;00m):\n\u001b[0;32m    194\u001b[0m         \u001b[38;5;66;03m# We want to silence any warnings about, e.g. moved modules.\u001b[39;00m\n\u001b[0;32m    195\u001b[0m         warnings\u001b[38;5;241m.\u001b[39msimplefilter(\u001b[38;5;124m\"\u001b[39m\u001b[38;5;124mignore\u001b[39m\u001b[38;5;124m\"\u001b[39m, \u001b[38;5;167;01mWarning\u001b[39;00m)\n\u001b[1;32m--> 196\u001b[0m         \u001b[38;5;28;01mreturn\u001b[39;00m \u001b[43mpickle\u001b[49m\u001b[38;5;241;43m.\u001b[39;49m\u001b[43mload\u001b[49m\u001b[43m(\u001b[49m\u001b[43mhandles\u001b[49m\u001b[38;5;241;43m.\u001b[39;49m\u001b[43mhandle\u001b[49m\u001b[43m)\u001b[49m\n\u001b[0;32m    197\u001b[0m \u001b[38;5;28;01mexcept\u001b[39;00m excs_to_catch:\n\u001b[0;32m    198\u001b[0m     \u001b[38;5;66;03m# e.g.\u001b[39;00m\n\u001b[0;32m    199\u001b[0m     \u001b[38;5;66;03m#  \"No module named 'pandas.core.sparse.series'\"\u001b[39;00m\n\u001b[0;32m    200\u001b[0m     \u001b[38;5;66;03m#  \"Can't get attribute '__nat_unpickle' on <module 'pandas._libs.tslib\"\u001b[39;00m\n\u001b[0;32m    201\u001b[0m     \u001b[38;5;28;01mreturn\u001b[39;00m pc\u001b[38;5;241m.\u001b[39mload(handles\u001b[38;5;241m.\u001b[39mhandle, encoding\u001b[38;5;241m=\u001b[39m\u001b[38;5;28;01mNone\u001b[39;00m)\n",
      "\u001b[1;31mMemoryError\u001b[0m: "
     ]
    }
   ],
   "source": [
    "# Import dataset\n",
    "df_ords_prods_big = pd.read_pickle(os.path.join(path,'02 Data','Prepared Data','orders_products_big.pkl'))"
   ]
  },
  {
   "cell_type": "code",
   "execution_count": null,
   "metadata": {},
   "outputs": [],
   "source": [
    "# Import product department index\n",
    "department_index = pd.read_csv(os.path.join(path,'02 Data','Prepared Data','departments_wrangled.csv'), index_col = False)"
   ]
  },
  {
   "cell_type": "code",
   "execution_count": null,
   "metadata": {},
   "outputs": [],
   "source": [
    "# 2 Geogrpahic segmentation"
   ]
  },
  {
   "cell_type": "code",
   "execution_count": null,
   "metadata": {},
   "outputs": [],
   "source": [
    "# Define regions\n"
   ]
  },
  {
   "cell_type": "code",
   "execution_count": null,
   "metadata": {},
   "outputs": [],
   "source": [
    "# Define West states\n",
    "west_states = ['Idaho','Montana','Wyoming','Nevada','Utah','Colorado','Arizona','New Mexico','Alaska','Washington','Oregon','California','Hawaii']"
   ]
  },
  {
   "cell_type": "code",
   "execution_count": null,
   "metadata": {},
   "outputs": [
    {
     "data": {
      "text/html": [
       "<div>\n",
       "<style scoped>\n",
       "    .dataframe tbody tr th:only-of-type {\n",
       "        vertical-align: middle;\n",
       "    }\n",
       "\n",
       "    .dataframe tbody tr th {\n",
       "        vertical-align: top;\n",
       "    }\n",
       "\n",
       "    .dataframe thead th {\n",
       "        text-align: right;\n",
       "    }\n",
       "</style>\n",
       "<table border=\"1\" class=\"dataframe\">\n",
       "  <thead>\n",
       "    <tr style=\"text-align: right;\">\n",
       "      <th></th>\n",
       "      <th>product_id</th>\n",
       "      <th>product_name</th>\n",
       "      <th>aisle_id</th>\n",
       "      <th>department_id</th>\n",
       "      <th>prices</th>\n",
       "      <th>order_id</th>\n",
       "      <th>user_id</th>\n",
       "      <th>eval_set</th>\n",
       "      <th>order_number</th>\n",
       "      <th>order_dow</th>\n",
       "      <th>...</th>\n",
       "      <th>First Name</th>\n",
       "      <th>Surnam</th>\n",
       "      <th>Gender</th>\n",
       "      <th>State</th>\n",
       "      <th>Age</th>\n",
       "      <th>dependants</th>\n",
       "      <th>family_status</th>\n",
       "      <th>income</th>\n",
       "      <th>_merge</th>\n",
       "      <th>region</th>\n",
       "    </tr>\n",
       "  </thead>\n",
       "  <tbody>\n",
       "    <tr>\n",
       "      <th>0</th>\n",
       "      <td>33664</td>\n",
       "      <td>2 % Reduced Fat  Milk</td>\n",
       "      <td>84</td>\n",
       "      <td>16</td>\n",
       "      <td>99999.0</td>\n",
       "      <td>183964</td>\n",
       "      <td>873</td>\n",
       "      <td>prior</td>\n",
       "      <td>3</td>\n",
       "      <td>0</td>\n",
       "      <td>...</td>\n",
       "      <td>Edward</td>\n",
       "      <td>Carr</td>\n",
       "      <td>Male</td>\n",
       "      <td>Colorado</td>\n",
       "      <td>64</td>\n",
       "      <td>3</td>\n",
       "      <td>married</td>\n",
       "      <td>290220</td>\n",
       "      <td>both</td>\n",
       "      <td>West</td>\n",
       "    </tr>\n",
       "    <tr>\n",
       "      <th>1</th>\n",
       "      <td>33664</td>\n",
       "      <td>2 % Reduced Fat  Milk</td>\n",
       "      <td>84</td>\n",
       "      <td>16</td>\n",
       "      <td>99999.0</td>\n",
       "      <td>1851256</td>\n",
       "      <td>873</td>\n",
       "      <td>prior</td>\n",
       "      <td>4</td>\n",
       "      <td>6</td>\n",
       "      <td>...</td>\n",
       "      <td>Edward</td>\n",
       "      <td>Carr</td>\n",
       "      <td>Male</td>\n",
       "      <td>Colorado</td>\n",
       "      <td>64</td>\n",
       "      <td>3</td>\n",
       "      <td>married</td>\n",
       "      <td>290220</td>\n",
       "      <td>both</td>\n",
       "      <td>West</td>\n",
       "    </tr>\n",
       "    <tr>\n",
       "      <th>2</th>\n",
       "      <td>9020</td>\n",
       "      <td>Boneless Skinless Chicken Thighs</td>\n",
       "      <td>35</td>\n",
       "      <td>12</td>\n",
       "      <td>25.0</td>\n",
       "      <td>696790</td>\n",
       "      <td>873</td>\n",
       "      <td>prior</td>\n",
       "      <td>5</td>\n",
       "      <td>6</td>\n",
       "      <td>...</td>\n",
       "      <td>Edward</td>\n",
       "      <td>Carr</td>\n",
       "      <td>Male</td>\n",
       "      <td>Colorado</td>\n",
       "      <td>64</td>\n",
       "      <td>3</td>\n",
       "      <td>married</td>\n",
       "      <td>290220</td>\n",
       "      <td>both</td>\n",
       "      <td>West</td>\n",
       "    </tr>\n",
       "    <tr>\n",
       "      <th>3</th>\n",
       "      <td>7877</td>\n",
       "      <td>Chicken Thighs</td>\n",
       "      <td>49</td>\n",
       "      <td>12</td>\n",
       "      <td>23.0</td>\n",
       "      <td>183964</td>\n",
       "      <td>873</td>\n",
       "      <td>prior</td>\n",
       "      <td>3</td>\n",
       "      <td>0</td>\n",
       "      <td>...</td>\n",
       "      <td>Edward</td>\n",
       "      <td>Carr</td>\n",
       "      <td>Male</td>\n",
       "      <td>Colorado</td>\n",
       "      <td>64</td>\n",
       "      <td>3</td>\n",
       "      <td>married</td>\n",
       "      <td>290220</td>\n",
       "      <td>both</td>\n",
       "      <td>West</td>\n",
       "    </tr>\n",
       "    <tr>\n",
       "      <th>4</th>\n",
       "      <td>33464</td>\n",
       "      <td>Fresh Boneless Skinless Chicken Breasts</td>\n",
       "      <td>49</td>\n",
       "      <td>12</td>\n",
       "      <td>22.0</td>\n",
       "      <td>1744567</td>\n",
       "      <td>873</td>\n",
       "      <td>prior</td>\n",
       "      <td>2</td>\n",
       "      <td>0</td>\n",
       "      <td>...</td>\n",
       "      <td>Edward</td>\n",
       "      <td>Carr</td>\n",
       "      <td>Male</td>\n",
       "      <td>Colorado</td>\n",
       "      <td>64</td>\n",
       "      <td>3</td>\n",
       "      <td>married</td>\n",
       "      <td>290220</td>\n",
       "      <td>both</td>\n",
       "      <td>West</td>\n",
       "    </tr>\n",
       "  </tbody>\n",
       "</table>\n",
       "<p>5 rows × 31 columns</p>\n",
       "</div>"
      ],
      "text/plain": [
       "   product_id                             product_name  aisle_id  \\\n",
       "0       33664                    2 % Reduced Fat  Milk        84   \n",
       "1       33664                    2 % Reduced Fat  Milk        84   \n",
       "2        9020         Boneless Skinless Chicken Thighs        35   \n",
       "3        7877                           Chicken Thighs        49   \n",
       "4       33464  Fresh Boneless Skinless Chicken Breasts        49   \n",
       "\n",
       "   department_id   prices  order_id  user_id eval_set  order_number  \\\n",
       "0             16  99999.0    183964      873    prior             3   \n",
       "1             16  99999.0   1851256      873    prior             4   \n",
       "2             12     25.0    696790      873    prior             5   \n",
       "3             12     23.0    183964      873    prior             3   \n",
       "4             12     22.0   1744567      873    prior             2   \n",
       "\n",
       "   order_dow  ...  First Name  Surnam  Gender     State Age  dependants  \\\n",
       "0          0  ...      Edward    Carr    Male  Colorado  64           3   \n",
       "1          6  ...      Edward    Carr    Male  Colorado  64           3   \n",
       "2          6  ...      Edward    Carr    Male  Colorado  64           3   \n",
       "3          0  ...      Edward    Carr    Male  Colorado  64           3   \n",
       "4          0  ...      Edward    Carr    Male  Colorado  64           3   \n",
       "\n",
       "  family_status  income _merge  region  \n",
       "0       married  290220   both    West  \n",
       "1       married  290220   both    West  \n",
       "2       married  290220   both    West  \n",
       "3       married  290220   both    West  \n",
       "4       married  290220   both    West  \n",
       "\n",
       "[5 rows x 31 columns]"
      ]
     },
     "execution_count": 102,
     "metadata": {},
     "output_type": "execute_result"
    }
   ],
   "source": [
    "df_ords_prods_big.head()"
   ]
  },
  {
   "cell_type": "code",
   "execution_count": null,
   "metadata": {},
   "outputs": [],
   "source": [
    "df_ords_prods_big.loc[df_ords_prods_big[\"State\"].isin(west_states), 'region'] = 'West' # Assign region"
   ]
  },
  {
   "cell_type": "code",
   "execution_count": null,
   "metadata": {},
   "outputs": [],
   "source": [
    "#Midwest"
   ]
  },
  {
   "cell_type": "code",
   "execution_count": null,
   "metadata": {},
   "outputs": [],
   "source": [
    "# Define Midwest states\n",
    "mid_west_states = ['Wisconsin', 'Michigan', 'Illinois', 'Indiana', 'Ohio', 'North Dakota', 'South Dakota', 'Nebraska', 'Kansas', 'Minnesota', 'Iowa', 'Missouri']"
   ]
  },
  {
   "cell_type": "code",
   "execution_count": null,
   "metadata": {},
   "outputs": [],
   "source": [
    "df_ords_prods_big.loc[df_ords_prods_big['State'].isin(mid_west_states), 'region'] = 'Midwest' # Assign region"
   ]
  },
  {
   "cell_type": "code",
   "execution_count": null,
   "metadata": {},
   "outputs": [],
   "source": [
    "# South"
   ]
  },
  {
   "cell_type": "code",
   "execution_count": null,
   "metadata": {},
   "outputs": [],
   "source": [
    "# Define South states\n",
    "west_states = ['Delaware','Maryland','District of Columbia','Virginia','West Virginia','North Carolina','South Carolina','Georgia','Florida','Kentucky','Tennessee','Mississippi','Alabama','Oklahoma','Texas','Arkansas','Louisiana']"
   ]
  },
  {
   "cell_type": "code",
   "execution_count": null,
   "metadata": {},
   "outputs": [],
   "source": [
    "df_ords_prods_big.loc[df_ords_prods_big['State'].isin(west_states), 'region'] = 'South' # Assign region"
   ]
  },
  {
   "cell_type": "code",
   "execution_count": null,
   "metadata": {},
   "outputs": [],
   "source": [
    "# Northeast#"
   ]
  },
  {
   "cell_type": "code",
   "execution_count": null,
   "metadata": {},
   "outputs": [],
   "source": [
    "# Define Northeast states\n",
    "northeast_states = ['Maine','New Hampshire','Vermont','Massachusetts','Rhode Island','Connecticut','New York','Pennsylvania','New Jersey']"
   ]
  },
  {
   "cell_type": "code",
   "execution_count": null,
   "metadata": {},
   "outputs": [],
   "source": [
    "df_ords_prods_big.loc[df_ords_prods_big['State'].isin(northeast_states), 'region'] = 'Northeast' # Assign region"
   ]
  },
  {
   "cell_type": "code",
   "execution_count": null,
   "metadata": {},
   "outputs": [
    {
     "data": {
      "text/plain": [
       "region\n",
       "South        10801610\n",
       "West          8300445\n",
       "Midwest       7603810\n",
       "Northeast     5728347\n",
       "Name: count, dtype: int64"
      ]
     },
     "execution_count": 95,
     "metadata": {},
     "output_type": "execute_result"
    }
   ],
   "source": [
    "# User count by region\n",
    "df_ords_prods_big['region'].value_counts(dropna = False)"
   ]
  },
  {
   "cell_type": "code",
   "execution_count": null,
   "metadata": {},
   "outputs": [
    {
     "data": {
      "text/html": [
       "<div>\n",
       "<style scoped>\n",
       "    .dataframe tbody tr th:only-of-type {\n",
       "        vertical-align: middle;\n",
       "    }\n",
       "\n",
       "    .dataframe tbody tr th {\n",
       "        vertical-align: top;\n",
       "    }\n",
       "\n",
       "    .dataframe thead th {\n",
       "        text-align: right;\n",
       "    }\n",
       "</style>\n",
       "<table border=\"1\" class=\"dataframe\">\n",
       "  <thead>\n",
       "    <tr style=\"text-align: right;\">\n",
       "      <th></th>\n",
       "      <th>spender_flag</th>\n",
       "    </tr>\n",
       "  </thead>\n",
       "  <tbody>\n",
       "    <tr>\n",
       "      <th>0</th>\n",
       "      <td>High_spender</td>\n",
       "    </tr>\n",
       "    <tr>\n",
       "      <th>1</th>\n",
       "      <td>High_spender</td>\n",
       "    </tr>\n",
       "    <tr>\n",
       "      <th>2</th>\n",
       "      <td>High_spender</td>\n",
       "    </tr>\n",
       "    <tr>\n",
       "      <th>3</th>\n",
       "      <td>High_spender</td>\n",
       "    </tr>\n",
       "    <tr>\n",
       "      <th>4</th>\n",
       "      <td>High_spender</td>\n",
       "    </tr>\n",
       "  </tbody>\n",
       "</table>\n",
       "</div>"
      ],
      "text/plain": [
       "   spender_flag\n",
       "0  High_spender\n",
       "1  High_spender\n",
       "2  High_spender\n",
       "3  High_spender\n",
       "4  High_spender"
      ]
     },
     "execution_count": 105,
     "metadata": {},
     "output_type": "execute_result"
    }
   ],
   "source": [
    "df_ords_prods_big['spender_flag'].head()"
   ]
  },
  {
   "cell_type": "code",
   "execution_count": null,
   "metadata": {},
   "outputs": [
    {
     "data": {
      "text/plain": [
       "Index(['product_id', 'product_name', 'aisle_id', 'department_id', 'prices',\n",
       "       'order_id', 'user_id', 'eval_set', 'order_number', 'order_dow',\n",
       "       'order_hour_of_day', 'days_since_prior_order', 'add_to_cart_order',\n",
       "       'reordered', 'merge_indicator', 'max_order', 'loyalty_flag',\n",
       "       'average_spend', 'spender_flag', 'Customer_frequency', 'frequency_flag',\n",
       "       'First Name', 'Surnam', 'Gender', 'State', 'Age', 'dependants',\n",
       "       'family_status', 'income', '_merge', 'region'],\n",
       "      dtype='object')"
      ]
     },
     "execution_count": 99,
     "metadata": {},
     "output_type": "execute_result"
    }
   ],
   "source": [
    "df_ords_prods_big.columns.tolist()"
   ]
  },
  {
   "cell_type": "code",
   "execution_count": null,
   "metadata": {},
   "outputs": [],
   "source": [
    "# 2.2 spending habits by region"
   ]
  },
  {
   "cell_type": "code",
   "execution_count": 36,
   "metadata": {},
   "outputs": [
    {
     "ename": "KeyError",
     "evalue": "'region'",
     "output_type": "error",
     "traceback": [
      "\u001b[1;31m---------------------------------------------------------------------------\u001b[0m",
      "\u001b[1;31mKeyError\u001b[0m                                  Traceback (most recent call last)",
      "File \u001b[1;32m~\\AppData\\Local\\Packages\\PythonSoftwareFoundation.Python.3.11_qbz5n2kfra8p0\\LocalCache\\local-packages\\Python311\\site-packages\\pandas\\core\\indexes\\base.py:3652\u001b[0m, in \u001b[0;36mIndex.get_loc\u001b[1;34m(self, key)\u001b[0m\n\u001b[0;32m   3651\u001b[0m \u001b[38;5;28;01mtry\u001b[39;00m:\n\u001b[1;32m-> 3652\u001b[0m     \u001b[38;5;28;01mreturn\u001b[39;00m \u001b[38;5;28;43mself\u001b[39;49m\u001b[38;5;241;43m.\u001b[39;49m\u001b[43m_engine\u001b[49m\u001b[38;5;241;43m.\u001b[39;49m\u001b[43mget_loc\u001b[49m\u001b[43m(\u001b[49m\u001b[43mcasted_key\u001b[49m\u001b[43m)\u001b[49m\n\u001b[0;32m   3653\u001b[0m \u001b[38;5;28;01mexcept\u001b[39;00m \u001b[38;5;167;01mKeyError\u001b[39;00m \u001b[38;5;28;01mas\u001b[39;00m err:\n",
      "File \u001b[1;32m~\\AppData\\Local\\Packages\\PythonSoftwareFoundation.Python.3.11_qbz5n2kfra8p0\\LocalCache\\local-packages\\Python311\\site-packages\\pandas\\_libs\\index.pyx:147\u001b[0m, in \u001b[0;36mpandas._libs.index.IndexEngine.get_loc\u001b[1;34m()\u001b[0m\n",
      "File \u001b[1;32m~\\AppData\\Local\\Packages\\PythonSoftwareFoundation.Python.3.11_qbz5n2kfra8p0\\LocalCache\\local-packages\\Python311\\site-packages\\pandas\\_libs\\index.pyx:176\u001b[0m, in \u001b[0;36mpandas._libs.index.IndexEngine.get_loc\u001b[1;34m()\u001b[0m\n",
      "File \u001b[1;32mpandas\\_libs\\hashtable_class_helper.pxi:7080\u001b[0m, in \u001b[0;36mpandas._libs.hashtable.PyObjectHashTable.get_item\u001b[1;34m()\u001b[0m\n",
      "File \u001b[1;32mpandas\\_libs\\hashtable_class_helper.pxi:7088\u001b[0m, in \u001b[0;36mpandas._libs.hashtable.PyObjectHashTable.get_item\u001b[1;34m()\u001b[0m\n",
      "\u001b[1;31mKeyError\u001b[0m: 'region'",
      "\nThe above exception was the direct cause of the following exception:\n",
      "\u001b[1;31mKeyError\u001b[0m                                  Traceback (most recent call last)",
      "Cell \u001b[1;32mIn[36], line 2\u001b[0m\n\u001b[0;32m      1\u001b[0m \u001b[38;5;66;03m# Pivot spending_flag base on region\u001b[39;00m\n\u001b[1;32m----> 2\u001b[0m spend_by_region \u001b[38;5;241m=\u001b[39m pd\u001b[38;5;241m.\u001b[39mcrosstab(\u001b[43mdf_ords_prods_big\u001b[49m\u001b[43m[\u001b[49m\u001b[38;5;124;43m'\u001b[39;49m\u001b[38;5;124;43mregion\u001b[39;49m\u001b[38;5;124;43m'\u001b[39;49m\u001b[43m]\u001b[49m, df_ords_prods_big[\u001b[38;5;124m'\u001b[39m\u001b[38;5;124mspender_flag\u001b[39m\u001b[38;5;124m'\u001b[39m], dropna\u001b[38;5;241m=\u001b[39m\u001b[38;5;28;01mFalse\u001b[39;00m)\u001b[38;5;241m.\u001b[39msort_values(by \u001b[38;5;241m=\u001b[39m \u001b[38;5;124m'\u001b[39m\u001b[38;5;124mLow_spender\u001b[39m\u001b[38;5;124m'\u001b[39m, ascending \u001b[38;5;241m=\u001b[39m \u001b[38;5;28;01mFalse\u001b[39;00m)\n",
      "File \u001b[1;32m~\\AppData\\Local\\Packages\\PythonSoftwareFoundation.Python.3.11_qbz5n2kfra8p0\\LocalCache\\local-packages\\Python311\\site-packages\\pandas\\core\\frame.py:3761\u001b[0m, in \u001b[0;36mDataFrame.__getitem__\u001b[1;34m(self, key)\u001b[0m\n\u001b[0;32m   3759\u001b[0m \u001b[38;5;28;01mif\u001b[39;00m \u001b[38;5;28mself\u001b[39m\u001b[38;5;241m.\u001b[39mcolumns\u001b[38;5;241m.\u001b[39mnlevels \u001b[38;5;241m>\u001b[39m \u001b[38;5;241m1\u001b[39m:\n\u001b[0;32m   3760\u001b[0m     \u001b[38;5;28;01mreturn\u001b[39;00m \u001b[38;5;28mself\u001b[39m\u001b[38;5;241m.\u001b[39m_getitem_multilevel(key)\n\u001b[1;32m-> 3761\u001b[0m indexer \u001b[38;5;241m=\u001b[39m \u001b[38;5;28;43mself\u001b[39;49m\u001b[38;5;241;43m.\u001b[39;49m\u001b[43mcolumns\u001b[49m\u001b[38;5;241;43m.\u001b[39;49m\u001b[43mget_loc\u001b[49m\u001b[43m(\u001b[49m\u001b[43mkey\u001b[49m\u001b[43m)\u001b[49m\n\u001b[0;32m   3762\u001b[0m \u001b[38;5;28;01mif\u001b[39;00m is_integer(indexer):\n\u001b[0;32m   3763\u001b[0m     indexer \u001b[38;5;241m=\u001b[39m [indexer]\n",
      "File \u001b[1;32m~\\AppData\\Local\\Packages\\PythonSoftwareFoundation.Python.3.11_qbz5n2kfra8p0\\LocalCache\\local-packages\\Python311\\site-packages\\pandas\\core\\indexes\\base.py:3654\u001b[0m, in \u001b[0;36mIndex.get_loc\u001b[1;34m(self, key)\u001b[0m\n\u001b[0;32m   3652\u001b[0m     \u001b[38;5;28;01mreturn\u001b[39;00m \u001b[38;5;28mself\u001b[39m\u001b[38;5;241m.\u001b[39m_engine\u001b[38;5;241m.\u001b[39mget_loc(casted_key)\n\u001b[0;32m   3653\u001b[0m \u001b[38;5;28;01mexcept\u001b[39;00m \u001b[38;5;167;01mKeyError\u001b[39;00m \u001b[38;5;28;01mas\u001b[39;00m err:\n\u001b[1;32m-> 3654\u001b[0m     \u001b[38;5;28;01mraise\u001b[39;00m \u001b[38;5;167;01mKeyError\u001b[39;00m(key) \u001b[38;5;28;01mfrom\u001b[39;00m \u001b[38;5;21;01merr\u001b[39;00m\n\u001b[0;32m   3655\u001b[0m \u001b[38;5;28;01mexcept\u001b[39;00m \u001b[38;5;167;01mTypeError\u001b[39;00m:\n\u001b[0;32m   3656\u001b[0m     \u001b[38;5;66;03m# If we have a listlike key, _check_indexing_error will raise\u001b[39;00m\n\u001b[0;32m   3657\u001b[0m     \u001b[38;5;66;03m#  InvalidIndexError. Otherwise we fall through and re-raise\u001b[39;00m\n\u001b[0;32m   3658\u001b[0m     \u001b[38;5;66;03m#  the TypeError.\u001b[39;00m\n\u001b[0;32m   3659\u001b[0m     \u001b[38;5;28mself\u001b[39m\u001b[38;5;241m.\u001b[39m_check_indexing_error(key)\n",
      "\u001b[1;31mKeyError\u001b[0m: 'region'"
     ]
    }
   ],
   "source": [
    "# Pivot spending_flag base on region\n",
    "spend_by_region = pd.crosstab(df_ords_prods_big['region'], df_ords_prods_big['spender_flag'], dropna=False).sort_values(by = 'Low_spender', ascending = False)\n"
   ]
  },
  {
   "cell_type": "code",
   "execution_count": null,
   "metadata": {},
   "outputs": [
    {
     "ename": "NameError",
     "evalue": "name 'spend_by_region' is not defined",
     "output_type": "error",
     "traceback": [
      "\u001b[1;31m---------------------------------------------------------------------------\u001b[0m",
      "\u001b[1;31mNameError\u001b[0m                                 Traceback (most recent call last)",
      "Cell \u001b[1;32mIn[76], line 1\u001b[0m\n\u001b[1;32m----> 1\u001b[0m \u001b[43mspend_by_region\u001b[49m \u001b[38;5;66;03m# Spending by region\u001b[39;00m\n",
      "\u001b[1;31mNameError\u001b[0m: name 'spend_by_region' is not defined"
     ]
    }
   ],
   "source": [
    "spend_by_region # Spending by region"
   ]
  },
  {
   "cell_type": "code",
   "execution_count": 1,
   "metadata": {},
   "outputs": [
    {
     "ename": "NameError",
     "evalue": "name 'pd' is not defined",
     "output_type": "error",
     "traceback": [
      "\u001b[1;31m---------------------------------------------------------------------------\u001b[0m",
      "\u001b[1;31mNameError\u001b[0m                                 Traceback (most recent call last)",
      "Cell \u001b[1;32mIn[1], line 2\u001b[0m\n\u001b[0;32m      1\u001b[0m \u001b[38;5;66;03m# Pivot product price range base on region\u001b[39;00m\n\u001b[1;32m----> 2\u001b[0m price_region \u001b[38;5;241m=\u001b[39m \u001b[43mpd\u001b[49m\u001b[38;5;241m.\u001b[39mcrosstab(df_ords_prods_big[\u001b[38;5;124m'\u001b[39m\u001b[38;5;124mproduct_name\u001b[39m\u001b[38;5;124m'\u001b[39m], df_ords_prods_big[\u001b[38;5;124m'\u001b[39m\u001b[38;5;124mregion\u001b[39m\u001b[38;5;124m'\u001b[39m], dropna\u001b[38;5;241m=\u001b[39m\u001b[38;5;28;01mFalse\u001b[39;00m,margins \u001b[38;5;241m=\u001b[39m \u001b[38;5;28;01mTrue\u001b[39;00m, margins_name \u001b[38;5;241m=\u001b[39m \u001b[38;5;124m'\u001b[39m\u001b[38;5;124mtotal\u001b[39m\u001b[38;5;124m'\u001b[39m)\u001b[38;5;241m.\u001b[39msort_values(by \u001b[38;5;241m=\u001b[39m \u001b[38;5;124m'\u001b[39m\u001b[38;5;124mtotal\u001b[39m\u001b[38;5;124m'\u001b[39m, ascending \u001b[38;5;241m=\u001b[39m \u001b[38;5;28;01mFalse\u001b[39;00m)\n",
      "\u001b[1;31mNameError\u001b[0m: name 'pd' is not defined"
     ]
    }
   ],
   "source": [
    "# Pivot product price range base on region\n",
    "price_region = pd.crosstab(df_ords_prods_big['product_name'], df_ords_prods_big['region'], dropna=False,margins = True, margins_name = 'total').sort_values(by = 'total', ascending = False)\n"
   ]
  },
  {
   "cell_type": "code",
   "execution_count": null,
   "metadata": {},
   "outputs": [],
   "source": [
    "price_region # Price rang product preferance by region"
   ]
  },
  {
   "cell_type": "code",
   "execution_count": null,
   "metadata": {},
   "outputs": [],
   "source": [
    "# 3 Low-activty customers"
   ]
  },
  {
   "cell_type": "code",
   "execution_count": 11,
   "metadata": {},
   "outputs": [],
   "source": [
    "# Define low_activity customers\n",
    "df_ords_prods_big.loc[df_ords_prods_big['order_number'] < 5, 'customer_activity'] = 'low_activity customers'\n",
    "\n",
    "# Define high_activity customers\n",
    "df_ords_prods_big.loc[df_ords_prods_big['order_number'] >= 5, 'customer_activity'] = 'high_activity customer'"
   ]
  },
  {
   "cell_type": "code",
   "execution_count": 13,
   "metadata": {},
   "outputs": [
    {
     "data": {
      "text/plain": [
       "customer_activity\n",
       "high_activity customer    24436791\n",
       "low_activity customers     7997421\n",
       "Name: count, dtype: int64"
      ]
     },
     "execution_count": 13,
     "metadata": {},
     "output_type": "execute_result"
    }
   ],
   "source": [
    "# User count base on activity level\n",
    "df_ords_prods_big['customer_activity'].value_counts(dropna= False)"
   ]
  },
  {
   "cell_type": "code",
   "execution_count": null,
   "metadata": {},
   "outputs": [],
   "source": [
    "#4 Customer Profiling\n",
    "# Age column is delineated into three categories for analytical purposes: 'young adult' (age 18-40), 'middle age' (age 40-60), and 'senior' (age 60-81)\n",
    "# Similarity, income column is stratified into four distinct tiers base on stastic percentile of the data: 'low income' (ranging from 25093-67124),\n",
    "# 'lower middle class' (from 67124-96663), 'upper middle class' (96663-127961), and 'upper class' (127961-593901).\n",
    "# two-dimentions are combined together to define customer profile. total 12 groups users are categorized  in customer profile."
   ]
  },
  {
   "cell_type": "code",
   "execution_count": null,
   "metadata": {},
   "outputs": [],
   "source": [
    "# Define age, income groups"
   ]
  },
  {
   "cell_type": "code",
   "execution_count": 15,
   "metadata": {},
   "outputs": [],
   "source": [
    "# Define low-income young adult group\n",
    "df_ords_prods_big.loc[(df_ords_prods_big['Age'] >= 18) & (df_ords_prods_big['Age'] <= 40)\n",
    "         & (df_ords_prods_big['income'] >= 25903) & (df_ords_prods_big['income'] <= 67124),\n",
    "\n",
    "         'customer_profile'] = 'low-income yound adult'"
   ]
  },
  {
   "cell_type": "code",
   "execution_count": 16,
   "metadata": {},
   "outputs": [],
   "source": [
    "# Define low-income mid age group\n",
    "df_ords_prods_big.loc[(df_ords_prods_big['Age'] > 40) & (df_ords_prods_big['Age'] <= 60)\n",
    "         & (df_ords_prods_big['income'] >= 25903) & (df_ords_prods_big['income'] <= 67124),\n",
    "\n",
    "         'customer_profile'] = 'low-income mid age'"
   ]
  },
  {
   "cell_type": "code",
   "execution_count": 17,
   "metadata": {},
   "outputs": [],
   "source": [
    "# Define low-income senior group\n",
    "df_ords_prods_big.loc[(df_ords_prods_big['Age'] > 60) &  (df_ords_prods_big['Age'] <= 81  )\n",
    "         & (df_ords_prods_big['income'] >= 25903) & (df_ords_prods_big['income'] <= 67124),\n",
    "\n",
    "         'customer_profile'] = 'low-ncome senior'"
   ]
  },
  {
   "cell_type": "code",
   "execution_count": 18,
   "metadata": {},
   "outputs": [],
   "source": [
    "# Define lower-middle-class young adult group\n",
    "df_ords_prods_big.loc[(df_ords_prods_big['Age'] >= 18) & (df_ords_prods_big['Age'] <= 40)\n",
    "         & (df_ords_prods_big['income'] > 67124) & (df_ords_prods_big['income'] <= 96663),\n",
    "\n",
    "         'customer_profile'] = 'lower-middle-class yound adult'"
   ]
  },
  {
   "cell_type": "code",
   "execution_count": 19,
   "metadata": {},
   "outputs": [],
   "source": [
    "# Define loer-middle-class mid age group\n",
    "df_ords_prods_big.loc[(df_ords_prods_big['Age'] > 40) & (df_ords_prods_big['Age'] <= 60)\n",
    "         & (df_ords_prods_big['income'] > 67124 ) & (df_ords_prods_big['income'] <= 96663 ),\n",
    "\n",
    "         'customer_profile'] = 'lower-middle-class mid age'"
   ]
  },
  {
   "cell_type": "code",
   "execution_count": 20,
   "metadata": {},
   "outputs": [],
   "source": [
    "# Define lower-middle-class seniot group\n",
    "df_ords_prods_big.loc[(df_ords_prods_big['Age'] > 60) &  (df_ords_prods_big['Age'] <= 81  )\n",
    "         & (df_ords_prods_big['income'] > 67124 ) & (df_ords_prods_big['income'] <= 96663 ),\n",
    "\n",
    "         'customer_profile'] = 'lower-middle-class senior'"
   ]
  },
  {
   "cell_type": "code",
   "execution_count": 21,
   "metadata": {},
   "outputs": [],
   "source": [
    "# Define upper-middle-class yound adult group\n",
    "df_ords_prods_big.loc[(df_ords_prods_big['Age'] >= 18) & (df_ords_prods_big['Age'] <= 40)\n",
    "         & (df_ords_prods_big['income'] > 96663 ) & (df_ords_prods_big['income'] <= 127961 ),\n",
    "\n",
    "         'customer_profile'] = 'upper-middle-class yound adult'"
   ]
  },
  {
   "cell_type": "code",
   "execution_count": 22,
   "metadata": {},
   "outputs": [],
   "source": [
    "# Define upper-middle-class mid age group\n",
    "df_ords_prods_big.loc[(df_ords_prods_big['Age'] > 40) & (df_ords_prods_big['Age'] <= 60)\n",
    "         & (df_ords_prods_big['income'] > 96663 ) & (df_ords_prods_big['income'] <= 127961 ),\n",
    "\n",
    "         'customer_profile'] = 'upper-middle-class mid age'"
   ]
  },
  {
   "cell_type": "code",
   "execution_count": 23,
   "metadata": {},
   "outputs": [],
   "source": [
    "# Define upper-middle-class senior group\n",
    "df_ords_prods_big.loc[(df_ords_prods_big['Age'] > 60) &  (df_ords_prods_big['Age'] <= 81  )\n",
    "         & (df_ords_prods_big['income'] > 96663 ) & (df_ords_prods_big['income'] <= 127961 ),\n",
    "\n",
    "         'customer_profile'] = 'upper-middle-class senior'"
   ]
  },
  {
   "cell_type": "code",
   "execution_count": 24,
   "metadata": {},
   "outputs": [],
   "source": [
    "# Define upper-class young adult group\n",
    "df_ords_prods_big.loc[(df_ords_prods_big['Age'] >= 18) & (df_ords_prods_big['Age'] <= 40)\n",
    "         & (df_ords_prods_big['income'] > 127961 ) & (df_ords_prods_big['income'] <= 593901 ),\n",
    "\n",
    "         'customer_profile'] = 'upper-class young adult'"
   ]
  },
  {
   "cell_type": "code",
   "execution_count": 25,
   "metadata": {},
   "outputs": [],
   "source": [
    "# Define upper-class mid age group\n",
    "df_ords_prods_big.loc[(df_ords_prods_big['Age'] > 40) & (df_ords_prods_big['Age'] <= 60)\n",
    "         & (df_ords_prods_big['income'] > 127961 ) & (df_ords_prods_big['income'] <= 593901 ),\n",
    "\n",
    "         'customer_profile'] = 'upper-class mid age'"
   ]
  },
  {
   "cell_type": "code",
   "execution_count": 26,
   "metadata": {},
   "outputs": [],
   "source": [
    "# Define upper-class senior group\n",
    "df_ords_prods_big.loc[(df_ords_prods_big['Age'] > 60) &  (df_ords_prods_big['Age'] <= 81  )\n",
    "         & (df_ords_prods_big['income'] > 127961 ) & (df_ords_prods_big['income'] <= 593901 ),\n",
    "\n",
    "         'customer_profile'] = 'upper-class senior'"
   ]
  },
  {
   "cell_type": "code",
   "execution_count": null,
   "metadata": {},
   "outputs": [],
   "source": [
    "# Family status and dependant's number with profile"
   ]
  },
  {
   "cell_type": "code",
   "execution_count": 28,
   "metadata": {},
   "outputs": [
    {
     "data": {
      "text/html": [
       "<div>\n",
       "<style scoped>\n",
       "    .dataframe tbody tr th:only-of-type {\n",
       "        vertical-align: middle;\n",
       "    }\n",
       "\n",
       "    .dataframe tbody tr th {\n",
       "        vertical-align: top;\n",
       "    }\n",
       "\n",
       "    .dataframe thead th {\n",
       "        text-align: right;\n",
       "    }\n",
       "</style>\n",
       "<table border=\"1\" class=\"dataframe\">\n",
       "  <thead>\n",
       "    <tr style=\"text-align: right;\">\n",
       "      <th>family_status</th>\n",
       "      <th>divorced/widowed</th>\n",
       "      <th>living with parents and siblings</th>\n",
       "      <th>married</th>\n",
       "      <th>single</th>\n",
       "    </tr>\n",
       "    <tr>\n",
       "      <th>customer_profile</th>\n",
       "      <th></th>\n",
       "      <th></th>\n",
       "      <th></th>\n",
       "      <th></th>\n",
       "    </tr>\n",
       "  </thead>\n",
       "  <tbody>\n",
       "    <tr>\n",
       "      <th>low-income mid age</th>\n",
       "      <td>14355</td>\n",
       "      <td>0</td>\n",
       "      <td>1021539</td>\n",
       "      <td>321814</td>\n",
       "    </tr>\n",
       "    <tr>\n",
       "      <th>low-income yound adult</th>\n",
       "      <td>0</td>\n",
       "      <td>697131</td>\n",
       "      <td>3348254</td>\n",
       "      <td>1357215</td>\n",
       "    </tr>\n",
       "    <tr>\n",
       "      <th>low-ncome senior</th>\n",
       "      <td>339712</td>\n",
       "      <td>0</td>\n",
       "      <td>1042866</td>\n",
       "      <td>0</td>\n",
       "    </tr>\n",
       "    <tr>\n",
       "      <th>lower-middle-class mid age</th>\n",
       "      <td>14302</td>\n",
       "      <td>0</td>\n",
       "      <td>986551</td>\n",
       "      <td>306079</td>\n",
       "    </tr>\n",
       "    <tr>\n",
       "      <th>lower-middle-class senior</th>\n",
       "      <td>360822</td>\n",
       "      <td>0</td>\n",
       "      <td>1061019</td>\n",
       "      <td>0</td>\n",
       "    </tr>\n",
       "    <tr>\n",
       "      <th>lower-middle-class yound adult</th>\n",
       "      <td>0</td>\n",
       "      <td>735644</td>\n",
       "      <td>3306209</td>\n",
       "      <td>1323094</td>\n",
       "    </tr>\n",
       "    <tr>\n",
       "      <th>upper-class mid age</th>\n",
       "      <td>46209</td>\n",
       "      <td>0</td>\n",
       "      <td>2910660</td>\n",
       "      <td>944193</td>\n",
       "    </tr>\n",
       "    <tr>\n",
       "      <th>upper-class senior</th>\n",
       "      <td>1012196</td>\n",
       "      <td>0</td>\n",
       "      <td>3051212</td>\n",
       "      <td>0</td>\n",
       "    </tr>\n",
       "    <tr>\n",
       "      <th>upper-class young adult</th>\n",
       "      <td>0</td>\n",
       "      <td>17951</td>\n",
       "      <td>85328</td>\n",
       "      <td>30129</td>\n",
       "    </tr>\n",
       "    <tr>\n",
       "      <th>upper-middle-class mid age</th>\n",
       "      <td>42417</td>\n",
       "      <td>0</td>\n",
       "      <td>2703810</td>\n",
       "      <td>849494</td>\n",
       "    </tr>\n",
       "    <tr>\n",
       "      <th>upper-middle-class senior</th>\n",
       "      <td>944415</td>\n",
       "      <td>0</td>\n",
       "      <td>2780031</td>\n",
       "      <td>0</td>\n",
       "    </tr>\n",
       "    <tr>\n",
       "      <th>upper-middle-class yound adult</th>\n",
       "      <td>0</td>\n",
       "      <td>101376</td>\n",
       "      <td>479434</td>\n",
       "      <td>198751</td>\n",
       "    </tr>\n",
       "  </tbody>\n",
       "</table>\n",
       "</div>"
      ],
      "text/plain": [
       "family_status                   divorced/widowed  \\\n",
       "customer_profile                                   \n",
       "low-income mid age                         14355   \n",
       "low-income yound adult                         0   \n",
       "low-ncome senior                          339712   \n",
       "lower-middle-class mid age                 14302   \n",
       "lower-middle-class senior                 360822   \n",
       "lower-middle-class yound adult                 0   \n",
       "upper-class mid age                        46209   \n",
       "upper-class senior                       1012196   \n",
       "upper-class young adult                        0   \n",
       "upper-middle-class mid age                 42417   \n",
       "upper-middle-class senior                 944415   \n",
       "upper-middle-class yound adult                 0   \n",
       "\n",
       "family_status                   living with parents and siblings  married  \\\n",
       "customer_profile                                                            \n",
       "low-income mid age                                             0  1021539   \n",
       "low-income yound adult                                    697131  3348254   \n",
       "low-ncome senior                                               0  1042866   \n",
       "lower-middle-class mid age                                     0   986551   \n",
       "lower-middle-class senior                                      0  1061019   \n",
       "lower-middle-class yound adult                            735644  3306209   \n",
       "upper-class mid age                                            0  2910660   \n",
       "upper-class senior                                             0  3051212   \n",
       "upper-class young adult                                    17951    85328   \n",
       "upper-middle-class mid age                                     0  2703810   \n",
       "upper-middle-class senior                                      0  2780031   \n",
       "upper-middle-class yound adult                            101376   479434   \n",
       "\n",
       "family_status                    single  \n",
       "customer_profile                         \n",
       "low-income mid age               321814  \n",
       "low-income yound adult          1357215  \n",
       "low-ncome senior                      0  \n",
       "lower-middle-class mid age       306079  \n",
       "lower-middle-class senior             0  \n",
       "lower-middle-class yound adult  1323094  \n",
       "upper-class mid age              944193  \n",
       "upper-class senior                    0  \n",
       "upper-class young adult           30129  \n",
       "upper-middle-class mid age       849494  \n",
       "upper-middle-class senior             0  \n",
       "upper-middle-class yound adult   198751  "
      ]
     },
     "execution_count": 28,
     "metadata": {},
     "output_type": "execute_result"
    }
   ],
   "source": [
    "# Familiy status count by customer profile\n",
    "pro_fam = pd.crosstab(df_ords_prods_big['customer_profile'], df_ords_prods_big['family_status'], dropna = False)\n",
    "pro_fam"
   ]
  },
  {
   "cell_type": "code",
   "execution_count": 30,
   "metadata": {},
   "outputs": [
    {
     "data": {
      "text/html": [
       "<div>\n",
       "<style scoped>\n",
       "    .dataframe tbody tr th:only-of-type {\n",
       "        vertical-align: middle;\n",
       "    }\n",
       "\n",
       "    .dataframe tbody tr th {\n",
       "        vertical-align: top;\n",
       "    }\n",
       "\n",
       "    .dataframe thead th {\n",
       "        text-align: right;\n",
       "    }\n",
       "</style>\n",
       "<table border=\"1\" class=\"dataframe\">\n",
       "  <thead>\n",
       "    <tr style=\"text-align: right;\">\n",
       "      <th>dependants</th>\n",
       "      <th>0</th>\n",
       "      <th>1</th>\n",
       "      <th>2</th>\n",
       "      <th>3</th>\n",
       "    </tr>\n",
       "    <tr>\n",
       "      <th>customer_profile</th>\n",
       "      <th></th>\n",
       "      <th></th>\n",
       "      <th></th>\n",
       "      <th></th>\n",
       "    </tr>\n",
       "  </thead>\n",
       "  <tbody>\n",
       "    <tr>\n",
       "      <th>low-income mid age</th>\n",
       "      <td>336169</td>\n",
       "      <td>341704</td>\n",
       "      <td>327753</td>\n",
       "      <td>352082</td>\n",
       "    </tr>\n",
       "    <tr>\n",
       "      <th>low-income yound adult</th>\n",
       "      <td>1357215</td>\n",
       "      <td>1339435</td>\n",
       "      <td>1352872</td>\n",
       "      <td>1353078</td>\n",
       "    </tr>\n",
       "    <tr>\n",
       "      <th>low-ncome senior</th>\n",
       "      <td>339712</td>\n",
       "      <td>349712</td>\n",
       "      <td>351259</td>\n",
       "      <td>341895</td>\n",
       "    </tr>\n",
       "    <tr>\n",
       "      <th>lower-middle-class mid age</th>\n",
       "      <td>320381</td>\n",
       "      <td>337432</td>\n",
       "      <td>315267</td>\n",
       "      <td>333852</td>\n",
       "    </tr>\n",
       "    <tr>\n",
       "      <th>lower-middle-class senior</th>\n",
       "      <td>360822</td>\n",
       "      <td>342697</td>\n",
       "      <td>372558</td>\n",
       "      <td>345764</td>\n",
       "    </tr>\n",
       "    <tr>\n",
       "      <th>lower-middle-class yound adult</th>\n",
       "      <td>1323094</td>\n",
       "      <td>1354620</td>\n",
       "      <td>1339699</td>\n",
       "      <td>1347534</td>\n",
       "    </tr>\n",
       "    <tr>\n",
       "      <th>upper-class mid age</th>\n",
       "      <td>990402</td>\n",
       "      <td>980238</td>\n",
       "      <td>945976</td>\n",
       "      <td>984446</td>\n",
       "    </tr>\n",
       "    <tr>\n",
       "      <th>upper-class senior</th>\n",
       "      <td>1012196</td>\n",
       "      <td>992509</td>\n",
       "      <td>1039262</td>\n",
       "      <td>1019441</td>\n",
       "    </tr>\n",
       "    <tr>\n",
       "      <th>upper-class young adult</th>\n",
       "      <td>30129</td>\n",
       "      <td>33284</td>\n",
       "      <td>36253</td>\n",
       "      <td>33742</td>\n",
       "    </tr>\n",
       "    <tr>\n",
       "      <th>upper-middle-class mid age</th>\n",
       "      <td>891911</td>\n",
       "      <td>915112</td>\n",
       "      <td>886120</td>\n",
       "      <td>902578</td>\n",
       "    </tr>\n",
       "    <tr>\n",
       "      <th>upper-middle-class senior</th>\n",
       "      <td>944415</td>\n",
       "      <td>910432</td>\n",
       "      <td>933534</td>\n",
       "      <td>936065</td>\n",
       "    </tr>\n",
       "    <tr>\n",
       "      <th>upper-middle-class yound adult</th>\n",
       "      <td>198751</td>\n",
       "      <td>191135</td>\n",
       "      <td>197834</td>\n",
       "      <td>191841</td>\n",
       "    </tr>\n",
       "  </tbody>\n",
       "</table>\n",
       "</div>"
      ],
      "text/plain": [
       "dependants                            0        1        2        3\n",
       "customer_profile                                                  \n",
       "low-income mid age               336169   341704   327753   352082\n",
       "low-income yound adult          1357215  1339435  1352872  1353078\n",
       "low-ncome senior                 339712   349712   351259   341895\n",
       "lower-middle-class mid age       320381   337432   315267   333852\n",
       "lower-middle-class senior        360822   342697   372558   345764\n",
       "lower-middle-class yound adult  1323094  1354620  1339699  1347534\n",
       "upper-class mid age              990402   980238   945976   984446\n",
       "upper-class senior              1012196   992509  1039262  1019441\n",
       "upper-class young adult           30129    33284    36253    33742\n",
       "upper-middle-class mid age       891911   915112   886120   902578\n",
       "upper-middle-class senior        944415   910432   933534   936065\n",
       "upper-middle-class yound adult   198751   191135   197834   191841"
      ]
     },
     "execution_count": 30,
     "metadata": {},
     "output_type": "execute_result"
    }
   ],
   "source": [
    "# Number of dependants by customer profile\n",
    "cust_dependants = pd.crosstab(df_ords_prods_big['customer_profile'], df_ords_prods_big['dependants'], dropna = False)\n",
    "cust_dependants"
   ]
  },
  {
   "cell_type": "code",
   "execution_count": null,
   "metadata": {},
   "outputs": [],
   "source": [
    "# 5 Distibution of customer profile"
   ]
  },
  {
   "cell_type": "code",
   "execution_count": 31,
   "metadata": {},
   "outputs": [
    {
     "data": {
      "text/plain": [
       "customer_profile\n",
       "low-income yound adult            5402600\n",
       "lower-middle-class yound adult    5364947\n",
       "upper-class senior                4063408\n",
       "upper-class mid age               3901062\n",
       "upper-middle-class senior         3724446\n",
       "upper-middle-class mid age        3595721\n",
       "lower-middle-class senior         1421841\n",
       "low-ncome senior                  1382578\n",
       "low-income mid age                1357708\n",
       "lower-middle-class mid age        1306932\n",
       "upper-middle-class yound adult     779561\n",
       "upper-class young adult            133408\n",
       "Name: count, dtype: int64"
      ]
     },
     "execution_count": 31,
     "metadata": {},
     "output_type": "execute_result"
    }
   ],
   "source": [
    "# Distribution of customer profile\n",
    "df_ords_prods_big['customer_profile'].value_counts()"
   ]
  },
  {
   "cell_type": "code",
   "execution_count": 32,
   "metadata": {},
   "outputs": [
    {
     "data": {
      "text/plain": [
       "Text(0.5, 0, 'User Count')"
      ]
     },
     "execution_count": 32,
     "metadata": {},
     "output_type": "execute_result"
    },
    {
     "data": {
      "image/png": "[encoded data removed]",
      "text/plain": [
       "<Figure size 640x480 with 1 Axes>"
      ]
     },
     "metadata": {},
     "output_type": "display_data"
    }
   ],
   "source": [
    "# Visualize the distribution of customer profile\n",
    "df_ords_prods_big['customer_profile'].value_counts(dropna= False).sort_values(ascending= True).plot.barh(color='#4f6784')\n",
    "plt.ylabel(' ') # Eliminate y lable\n",
    "plt.xlabel('User Count')"
   ]
  },
  {
   "cell_type": "code",
   "execution_count": null,
   "metadata": {},
   "outputs": [],
   "source": [
    "# 6 Statistics on customer-profile for order of frequency and expenditures"
   ]
  },
  {
   "cell_type": "code",
   "execution_count": 33,
   "metadata": {},
   "outputs": [
    {
     "data": {
      "text/html": [
       "<div>\n",
       "<style scoped>\n",
       "    .dataframe tbody tr th:only-of-type {\n",
       "        vertical-align: middle;\n",
       "    }\n",
       "\n",
       "    .dataframe tbody tr th {\n",
       "        vertical-align: top;\n",
       "    }\n",
       "\n",
       "    .dataframe thead tr th {\n",
       "        text-align: left;\n",
       "    }\n",
       "\n",
       "    .dataframe thead tr:last-of-type th {\n",
       "        text-align: right;\n",
       "    }\n",
       "</style>\n",
       "<table border=\"1\" class=\"dataframe\">\n",
       "  <thead>\n",
       "    <tr>\n",
       "      <th></th>\n",
       "      <th colspan=\"3\" halign=\"left\">days_since_prior_order</th>\n",
       "    </tr>\n",
       "    <tr>\n",
       "      <th></th>\n",
       "      <th>mean</th>\n",
       "      <th>min</th>\n",
       "      <th>max</th>\n",
       "    </tr>\n",
       "    <tr>\n",
       "      <th>customer_profile</th>\n",
       "      <th></th>\n",
       "      <th></th>\n",
       "      <th></th>\n",
       "    </tr>\n",
       "  </thead>\n",
       "  <tbody>\n",
       "    <tr>\n",
       "      <th>low-income mid age</th>\n",
       "      <td>11.464974</td>\n",
       "      <td>0.0</td>\n",
       "      <td>30.0</td>\n",
       "    </tr>\n",
       "    <tr>\n",
       "      <th>low-income yound adult</th>\n",
       "      <td>11.211007</td>\n",
       "      <td>0.0</td>\n",
       "      <td>30.0</td>\n",
       "    </tr>\n",
       "    <tr>\n",
       "      <th>low-ncome senior</th>\n",
       "      <td>11.621253</td>\n",
       "      <td>0.0</td>\n",
       "      <td>30.0</td>\n",
       "    </tr>\n",
       "    <tr>\n",
       "      <th>lower-middle-class mid age</th>\n",
       "      <td>11.078025</td>\n",
       "      <td>0.0</td>\n",
       "      <td>30.0</td>\n",
       "    </tr>\n",
       "    <tr>\n",
       "      <th>lower-middle-class senior</th>\n",
       "      <td>10.931313</td>\n",
       "      <td>0.0</td>\n",
       "      <td>30.0</td>\n",
       "    </tr>\n",
       "    <tr>\n",
       "      <th>lower-middle-class yound adult</th>\n",
       "      <td>10.996403</td>\n",
       "      <td>0.0</td>\n",
       "      <td>30.0</td>\n",
       "    </tr>\n",
       "    <tr>\n",
       "      <th>upper-class mid age</th>\n",
       "      <td>11.101388</td>\n",
       "      <td>0.0</td>\n",
       "      <td>30.0</td>\n",
       "    </tr>\n",
       "    <tr>\n",
       "      <th>upper-class senior</th>\n",
       "      <td>10.972695</td>\n",
       "      <td>0.0</td>\n",
       "      <td>30.0</td>\n",
       "    </tr>\n",
       "    <tr>\n",
       "      <th>upper-class young adult</th>\n",
       "      <td>10.356933</td>\n",
       "      <td>0.0</td>\n",
       "      <td>30.0</td>\n",
       "    </tr>\n",
       "    <tr>\n",
       "      <th>upper-middle-class mid age</th>\n",
       "      <td>11.024219</td>\n",
       "      <td>0.0</td>\n",
       "      <td>30.0</td>\n",
       "    </tr>\n",
       "    <tr>\n",
       "      <th>upper-middle-class senior</th>\n",
       "      <td>11.065481</td>\n",
       "      <td>0.0</td>\n",
       "      <td>30.0</td>\n",
       "    </tr>\n",
       "    <tr>\n",
       "      <th>upper-middle-class yound adult</th>\n",
       "      <td>11.321622</td>\n",
       "      <td>0.0</td>\n",
       "      <td>30.0</td>\n",
       "    </tr>\n",
       "  </tbody>\n",
       "</table>\n",
       "</div>"
      ],
      "text/plain": [
       "                               days_since_prior_order           \n",
       "                                                 mean  min   max\n",
       "customer_profile                                                \n",
       "low-income mid age                          11.464974  0.0  30.0\n",
       "low-income yound adult                      11.211007  0.0  30.0\n",
       "low-ncome senior                            11.621253  0.0  30.0\n",
       "lower-middle-class mid age                  11.078025  0.0  30.0\n",
       "lower-middle-class senior                   10.931313  0.0  30.0\n",
       "lower-middle-class yound adult              10.996403  0.0  30.0\n",
       "upper-class mid age                         11.101388  0.0  30.0\n",
       "upper-class senior                          10.972695  0.0  30.0\n",
       "upper-class young adult                     10.356933  0.0  30.0\n",
       "upper-middle-class mid age                  11.024219  0.0  30.0\n",
       "upper-middle-class senior                   11.065481  0.0  30.0\n",
       "upper-middle-class yound adult              11.321622  0.0  30.0"
      ]
     },
     "execution_count": 33,
     "metadata": {},
     "output_type": "execute_result"
    }
   ],
   "source": [
    "# Order frequency by customer profile\n",
    "freqt_customer_profile = df_ords_prods_big.groupby('customer_profile').agg({'days_since_prior_order': ['mean','min','max']})\n",
    "freqt_customer_profile"
   ]
  },
  {
   "cell_type": "code",
   "execution_count": 34,
   "metadata": {},
   "outputs": [
    {
     "data": {
      "text/html": [
       "<div>\n",
       "<style scoped>\n",
       "    .dataframe tbody tr th:only-of-type {\n",
       "        vertical-align: middle;\n",
       "    }\n",
       "\n",
       "    .dataframe tbody tr th {\n",
       "        vertical-align: top;\n",
       "    }\n",
       "\n",
       "    .dataframe thead tr th {\n",
       "        text-align: left;\n",
       "    }\n",
       "\n",
       "    .dataframe thead tr:last-of-type th {\n",
       "        text-align: right;\n",
       "    }\n",
       "</style>\n",
       "<table border=\"1\" class=\"dataframe\">\n",
       "  <thead>\n",
       "    <tr>\n",
       "      <th></th>\n",
       "      <th colspan=\"3\" halign=\"left\">prices</th>\n",
       "    </tr>\n",
       "    <tr>\n",
       "      <th></th>\n",
       "      <th>mean</th>\n",
       "      <th>min</th>\n",
       "      <th>max</th>\n",
       "    </tr>\n",
       "    <tr>\n",
       "      <th>customer_profile</th>\n",
       "      <th></th>\n",
       "      <th></th>\n",
       "      <th></th>\n",
       "    </tr>\n",
       "  </thead>\n",
       "  <tbody>\n",
       "    <tr>\n",
       "      <th>low-income mid age</th>\n",
       "      <td>6.685125</td>\n",
       "      <td>1.0</td>\n",
       "      <td>25.0</td>\n",
       "    </tr>\n",
       "    <tr>\n",
       "      <th>low-income yound adult</th>\n",
       "      <td>7.595398</td>\n",
       "      <td>1.0</td>\n",
       "      <td>25.0</td>\n",
       "    </tr>\n",
       "    <tr>\n",
       "      <th>low-ncome senior</th>\n",
       "      <td>6.704396</td>\n",
       "      <td>1.0</td>\n",
       "      <td>25.0</td>\n",
       "    </tr>\n",
       "    <tr>\n",
       "      <th>lower-middle-class mid age</th>\n",
       "      <td>8.644746</td>\n",
       "      <td>1.0</td>\n",
       "      <td>99999.0</td>\n",
       "    </tr>\n",
       "    <tr>\n",
       "      <th>lower-middle-class senior</th>\n",
       "      <td>8.315268</td>\n",
       "      <td>1.0</td>\n",
       "      <td>99999.0</td>\n",
       "    </tr>\n",
       "    <tr>\n",
       "      <th>lower-middle-class yound adult</th>\n",
       "      <td>8.373535</td>\n",
       "      <td>1.0</td>\n",
       "      <td>99999.0</td>\n",
       "    </tr>\n",
       "    <tr>\n",
       "      <th>upper-class mid age</th>\n",
       "      <td>12.834961</td>\n",
       "      <td>1.0</td>\n",
       "      <td>99999.0</td>\n",
       "    </tr>\n",
       "    <tr>\n",
       "      <th>upper-class senior</th>\n",
       "      <td>12.567358</td>\n",
       "      <td>1.0</td>\n",
       "      <td>99999.0</td>\n",
       "    </tr>\n",
       "    <tr>\n",
       "      <th>upper-class young adult</th>\n",
       "      <td>164.341222</td>\n",
       "      <td>1.0</td>\n",
       "      <td>99999.0</td>\n",
       "    </tr>\n",
       "    <tr>\n",
       "      <th>upper-middle-class mid age</th>\n",
       "      <td>8.558774</td>\n",
       "      <td>1.0</td>\n",
       "      <td>99999.0</td>\n",
       "    </tr>\n",
       "    <tr>\n",
       "      <th>upper-middle-class senior</th>\n",
       "      <td>8.450362</td>\n",
       "      <td>1.0</td>\n",
       "      <td>99999.0</td>\n",
       "    </tr>\n",
       "    <tr>\n",
       "      <th>upper-middle-class yound adult</th>\n",
       "      <td>12.963288</td>\n",
       "      <td>1.0</td>\n",
       "      <td>99999.0</td>\n",
       "    </tr>\n",
       "  </tbody>\n",
       "</table>\n",
       "</div>"
      ],
      "text/plain": [
       "                                    prices              \n",
       "                                      mean  min      max\n",
       "customer_profile                                        \n",
       "low-income mid age                6.685125  1.0     25.0\n",
       "low-income yound adult            7.595398  1.0     25.0\n",
       "low-ncome senior                  6.704396  1.0     25.0\n",
       "lower-middle-class mid age        8.644746  1.0  99999.0\n",
       "lower-middle-class senior         8.315268  1.0  99999.0\n",
       "lower-middle-class yound adult    8.373535  1.0  99999.0\n",
       "upper-class mid age              12.834961  1.0  99999.0\n",
       "upper-class senior               12.567358  1.0  99999.0\n",
       "upper-class young adult         164.341222  1.0  99999.0\n",
       "upper-middle-class mid age        8.558774  1.0  99999.0\n",
       "upper-middle-class senior         8.450362  1.0  99999.0\n",
       "upper-middle-class yound adult   12.963288  1.0  99999.0"
      ]
     },
     "execution_count": 34,
     "metadata": {},
     "output_type": "execute_result"
    }
   ],
   "source": [
    "# Expenditure by customer profile\n",
    "price_customer_profile = df_ords_prods_big.groupby('customer_profile').agg({'prices': ['mean', 'min', 'max']})\n",
    "price_customer_profile"
   ]
  },
  {
   "cell_type": "code",
   "execution_count": null,
   "metadata": {},
   "outputs": [],
   "source": [
    "# 7 Customer analysis by region"
   ]
  },
  {
   "cell_type": "code",
   "execution_count": null,
   "metadata": {},
   "outputs": [],
   "source": [
    "# 7.1 South"
   ]
  },
  {
   "cell_type": "code",
   "execution_count": 35,
   "metadata": {},
   "outputs": [
    {
     "ename": "KeyError",
     "evalue": "'region'",
     "output_type": "error",
     "traceback": [
      "\u001b[1;31m---------------------------------------------------------------------------\u001b[0m",
      "\u001b[1;31mKeyError\u001b[0m                                  Traceback (most recent call last)",
      "File \u001b[1;32m~\\AppData\\Local\\Packages\\PythonSoftwareFoundation.Python.3.11_qbz5n2kfra8p0\\LocalCache\\local-packages\\Python311\\site-packages\\pandas\\core\\indexes\\base.py:3652\u001b[0m, in \u001b[0;36mIndex.get_loc\u001b[1;34m(self, key)\u001b[0m\n\u001b[0;32m   3651\u001b[0m \u001b[38;5;28;01mtry\u001b[39;00m:\n\u001b[1;32m-> 3652\u001b[0m     \u001b[38;5;28;01mreturn\u001b[39;00m \u001b[38;5;28;43mself\u001b[39;49m\u001b[38;5;241;43m.\u001b[39;49m\u001b[43m_engine\u001b[49m\u001b[38;5;241;43m.\u001b[39;49m\u001b[43mget_loc\u001b[49m\u001b[43m(\u001b[49m\u001b[43mcasted_key\u001b[49m\u001b[43m)\u001b[49m\n\u001b[0;32m   3653\u001b[0m \u001b[38;5;28;01mexcept\u001b[39;00m \u001b[38;5;167;01mKeyError\u001b[39;00m \u001b[38;5;28;01mas\u001b[39;00m err:\n",
      "File \u001b[1;32m~\\AppData\\Local\\Packages\\PythonSoftwareFoundation.Python.3.11_qbz5n2kfra8p0\\LocalCache\\local-packages\\Python311\\site-packages\\pandas\\_libs\\index.pyx:147\u001b[0m, in \u001b[0;36mpandas._libs.index.IndexEngine.get_loc\u001b[1;34m()\u001b[0m\n",
      "File \u001b[1;32m~\\AppData\\Local\\Packages\\PythonSoftwareFoundation.Python.3.11_qbz5n2kfra8p0\\LocalCache\\local-packages\\Python311\\site-packages\\pandas\\_libs\\index.pyx:176\u001b[0m, in \u001b[0;36mpandas._libs.index.IndexEngine.get_loc\u001b[1;34m()\u001b[0m\n",
      "File \u001b[1;32mpandas\\_libs\\hashtable_class_helper.pxi:7080\u001b[0m, in \u001b[0;36mpandas._libs.hashtable.PyObjectHashTable.get_item\u001b[1;34m()\u001b[0m\n",
      "File \u001b[1;32mpandas\\_libs\\hashtable_class_helper.pxi:7088\u001b[0m, in \u001b[0;36mpandas._libs.hashtable.PyObjectHashTable.get_item\u001b[1;34m()\u001b[0m\n",
      "\u001b[1;31mKeyError\u001b[0m: 'region'",
      "\nThe above exception was the direct cause of the following exception:\n",
      "\u001b[1;31mKeyError\u001b[0m                                  Traceback (most recent call last)",
      "Cell \u001b[1;32mIn[35], line 2\u001b[0m\n\u001b[0;32m      1\u001b[0m \u001b[38;5;66;03m# Creat subset for the South region\u001b[39;00m\n\u001b[1;32m----> 2\u001b[0m south_customer \u001b[38;5;241m=\u001b[39m df_ords_prods_big[\u001b[43mdf_ords_prods_big\u001b[49m\u001b[43m[\u001b[49m\u001b[38;5;124;43m'\u001b[39;49m\u001b[38;5;124;43mregion\u001b[39;49m\u001b[38;5;124;43m'\u001b[39;49m\u001b[43m]\u001b[49m\u001b[38;5;241m==\u001b[39m \u001b[38;5;124m'\u001b[39m\u001b[38;5;124mSouth\u001b[39m\u001b[38;5;124m'\u001b[39m]\n",
      "File \u001b[1;32m~\\AppData\\Local\\Packages\\PythonSoftwareFoundation.Python.3.11_qbz5n2kfra8p0\\LocalCache\\local-packages\\Python311\\site-packages\\pandas\\core\\frame.py:3761\u001b[0m, in \u001b[0;36mDataFrame.__getitem__\u001b[1;34m(self, key)\u001b[0m\n\u001b[0;32m   3759\u001b[0m \u001b[38;5;28;01mif\u001b[39;00m \u001b[38;5;28mself\u001b[39m\u001b[38;5;241m.\u001b[39mcolumns\u001b[38;5;241m.\u001b[39mnlevels \u001b[38;5;241m>\u001b[39m \u001b[38;5;241m1\u001b[39m:\n\u001b[0;32m   3760\u001b[0m     \u001b[38;5;28;01mreturn\u001b[39;00m \u001b[38;5;28mself\u001b[39m\u001b[38;5;241m.\u001b[39m_getitem_multilevel(key)\n\u001b[1;32m-> 3761\u001b[0m indexer \u001b[38;5;241m=\u001b[39m \u001b[38;5;28;43mself\u001b[39;49m\u001b[38;5;241;43m.\u001b[39;49m\u001b[43mcolumns\u001b[49m\u001b[38;5;241;43m.\u001b[39;49m\u001b[43mget_loc\u001b[49m\u001b[43m(\u001b[49m\u001b[43mkey\u001b[49m\u001b[43m)\u001b[49m\n\u001b[0;32m   3762\u001b[0m \u001b[38;5;28;01mif\u001b[39;00m is_integer(indexer):\n\u001b[0;32m   3763\u001b[0m     indexer \u001b[38;5;241m=\u001b[39m [indexer]\n",
      "File \u001b[1;32m~\\AppData\\Local\\Packages\\PythonSoftwareFoundation.Python.3.11_qbz5n2kfra8p0\\LocalCache\\local-packages\\Python311\\site-packages\\pandas\\core\\indexes\\base.py:3654\u001b[0m, in \u001b[0;36mIndex.get_loc\u001b[1;34m(self, key)\u001b[0m\n\u001b[0;32m   3652\u001b[0m     \u001b[38;5;28;01mreturn\u001b[39;00m \u001b[38;5;28mself\u001b[39m\u001b[38;5;241m.\u001b[39m_engine\u001b[38;5;241m.\u001b[39mget_loc(casted_key)\n\u001b[0;32m   3653\u001b[0m \u001b[38;5;28;01mexcept\u001b[39;00m \u001b[38;5;167;01mKeyError\u001b[39;00m \u001b[38;5;28;01mas\u001b[39;00m err:\n\u001b[1;32m-> 3654\u001b[0m     \u001b[38;5;28;01mraise\u001b[39;00m \u001b[38;5;167;01mKeyError\u001b[39;00m(key) \u001b[38;5;28;01mfrom\u001b[39;00m \u001b[38;5;21;01merr\u001b[39;00m\n\u001b[0;32m   3655\u001b[0m \u001b[38;5;28;01mexcept\u001b[39;00m \u001b[38;5;167;01mTypeError\u001b[39;00m:\n\u001b[0;32m   3656\u001b[0m     \u001b[38;5;66;03m# If we have a listlike key, _check_indexing_error will raise\u001b[39;00m\n\u001b[0;32m   3657\u001b[0m     \u001b[38;5;66;03m#  InvalidIndexError. Otherwise we fall through and re-raise\u001b[39;00m\n\u001b[0;32m   3658\u001b[0m     \u001b[38;5;66;03m#  the TypeError.\u001b[39;00m\n\u001b[0;32m   3659\u001b[0m     \u001b[38;5;28mself\u001b[39m\u001b[38;5;241m.\u001b[39m_check_indexing_error(key)\n",
      "\u001b[1;31mKeyError\u001b[0m: 'region'"
     ]
    }
   ],
   "source": [
    "# Creat subset for the South region\n",
    "south_customer = df_ords_prods_big[df_ords_prods_big['region']== 'South']"
   ]
  },
  {
   "cell_type": "code",
   "execution_count": null,
   "metadata": {},
   "outputs": [],
   "source": [
    "# User count for the South region\n",
    "south_customer['user_id'].value_counts().sum()"
   ]
  },
  {
   "cell_type": "code",
   "execution_count": null,
   "metadata": {},
   "outputs": [],
   "source": [
    "# User count by customer profile\n",
    "south_customer['customer_profile'].value_counts()"
   ]
  },
  {
   "cell_type": "code",
   "execution_count": null,
   "metadata": {},
   "outputs": [],
   "source": [
    "# Family status count\n",
    "south_customer['fam_status'].value_counts()"
   ]
  },
  {
   "cell_type": "code",
   "execution_count": null,
   "metadata": {},
   "outputs": [],
   "source": [
    "# Number of dependant count\n",
    "south_customer['dependants'].value_counts()"
   ]
  },
  {
   "cell_type": "code",
   "execution_count": null,
   "metadata": {},
   "outputs": [],
   "source": [
    "# Total spending of the South customers\n",
    "south_customer['prices'].sum()"
   ]
  },
  {
   "cell_type": "code",
   "execution_count": null,
   "metadata": {},
   "outputs": [],
   "source": [
    "# Customer spending statistics\n",
    "south_customer['prices'].describe()"
   ]
  },
  {
   "cell_type": "code",
   "execution_count": null,
   "metadata": {},
   "outputs": [],
   "source": [
    "# Spending habbits outlook\n",
    "south_customer['spending_flag'].value_counts(dropna= False)"
   ]
  },
  {
   "cell_type": "code",
   "execution_count": null,
   "metadata": {},
   "outputs": [],
   "source": [
    "# Top 10 goods by order\n",
    "south_customer['product_name'].value_counts(dropna =  False ).sort_values(ascending = False).head(10)"
   ]
  },
  {
   "cell_type": "code",
   "execution_count": null,
   "metadata": {},
   "outputs": [],
   "source": [
    "# The most counts of order by departments\n",
    "south_customer['department_id'].value_counts(dropna= False).sort_values(ascending = False).head(5)"
   ]
  },
  {
   "cell_type": "code",
   "execution_count": null,
   "metadata": {},
   "outputs": [],
   "source": [
    "# Set data dictionary\n",
    "department_index.set_index('department_id', inplace=True)\n",
    "dept_dict = department_index.to_dict('index')"
   ]
  },
  {
   "cell_type": "code",
   "execution_count": null,
   "metadata": {},
   "outputs": [],
   "source": [
    "print(dept_dict.get(4))"
   ]
  },
  {
   "cell_type": "code",
   "execution_count": null,
   "metadata": {},
   "outputs": [],
   "source": [
    "print(dept_dict.get(16))"
   ]
  },
  {
   "cell_type": "code",
   "execution_count": null,
   "metadata": {},
   "outputs": [],
   "source": [
    "print(dept_dict.get(19))"
   ]
  },
  {
   "cell_type": "code",
   "execution_count": null,
   "metadata": {},
   "outputs": [],
   "source": [
    "# Produce, dairy eggs, and snacks are the top 3 popular departments for order"
   ]
  },
  {
   "cell_type": "code",
   "execution_count": null,
   "metadata": {},
   "outputs": [],
   "source": [
    "# order Habits\n",
    "# Brand loyalty check\n",
    "south_customer['loyalty_flag'].value_counts(dropna= False)"
   ]
  },
  {
   "cell_type": "code",
   "execution_count": null,
   "metadata": {},
   "outputs": [],
   "source": [
    "# Order frequency check\n",
    "south_customer['frequency_flag'].value_counts(dropna= False)"
   ]
  },
  {
   "cell_type": "code",
   "execution_count": null,
   "metadata": {},
   "outputs": [],
   "source": [
    "# The number of order check\n",
    "south_customer['customer_activity'].value_counts(dropna= False)"
   ]
  },
  {
   "cell_type": "code",
   "execution_count": null,
   "metadata": {},
   "outputs": [],
   "source": [
    "# 7.2 The West"
   ]
  },
  {
   "cell_type": "code",
   "execution_count": null,
   "metadata": {},
   "outputs": [],
   "source": [
    "# Create subset for the West region\n",
    "west_customer = df_ords_prods_big.loc[df_ords_prods_big['region'] == 'West']"
   ]
  },
  {
   "cell_type": "code",
   "execution_count": null,
   "metadata": {},
   "outputs": [],
   "source": [
    "# User count of the West region\n",
    "west_customer['user_id'].value_counts().sum()"
   ]
  },
  {
   "cell_type": "code",
   "execution_count": null,
   "metadata": {},
   "outputs": [],
   "source": [
    "# Customer profile count\n",
    "west_customer['customer_profile'].value_counts()"
   ]
  },
  {
   "cell_type": "code",
   "execution_count": null,
   "metadata": {},
   "outputs": [],
   "source": [
    "# Marriage status count\n",
    "west_customer['fam_status'].value_counts()"
   ]
  },
  {
   "cell_type": "code",
   "execution_count": null,
   "metadata": {},
   "outputs": [],
   "source": [
    "# Number of dependant count\n",
    "west_customer['dependants'].value_counts()"
   ]
  },
  {
   "cell_type": "code",
   "execution_count": null,
   "metadata": {},
   "outputs": [],
   "source": [
    "# Total spending of the South customers\n",
    "west_customer['prices'].sum()"
   ]
  },
  {
   "cell_type": "code",
   "execution_count": null,
   "metadata": {},
   "outputs": [],
   "source": [
    "# Customer spending statistics\n",
    "west_customer['prices'].describe()"
   ]
  },
  {
   "cell_type": "code",
   "execution_count": null,
   "metadata": {},
   "outputs": [],
   "source": [
    "# Spending habbits outlook\n",
    "west_customer['spending_flag'].value_counts(dropna= False)"
   ]
  },
  {
   "cell_type": "code",
   "execution_count": null,
   "metadata": {},
   "outputs": [],
   "source": [
    "# Top 10 goods by order\n",
    "west_customer['product_name'].value_counts(dropna =  False ).sort_values(ascending = False).head(10)"
   ]
  },
  {
   "cell_type": "code",
   "execution_count": null,
   "metadata": {},
   "outputs": [],
   "source": [
    "# The most counts of order by departments\n",
    "west_customer['department_id'].value_counts(dropna= False).sort_values(ascending = False).head(5)"
   ]
  },
  {
   "cell_type": "code",
   "execution_count": null,
   "metadata": {},
   "outputs": [],
   "source": [
    "# Produce, dairy eggs, and snacks are the top 3 popular departments for order"
   ]
  },
  {
   "cell_type": "code",
   "execution_count": null,
   "metadata": {},
   "outputs": [],
   "source": [
    "# Brand loyalty check\n",
    "west_customer['loyalty_flag'].value_counts(dropna= False)"
   ]
  },
  {
   "cell_type": "code",
   "execution_count": null,
   "metadata": {},
   "outputs": [],
   "source": [
    "# Order frequency check\n",
    "west_customer['frequency_flag'].value_counts(dropna= False)"
   ]
  },
  {
   "cell_type": "code",
   "execution_count": null,
   "metadata": {},
   "outputs": [],
   "source": [
    "# The number of order check\n",
    "west_customer['customer_activity'].value_counts(dropna= False)"
   ]
  },
  {
   "cell_type": "code",
   "execution_count": null,
   "metadata": {},
   "outputs": [],
   "source": [
    "# 7.3 The Midwest"
   ]
  },
  {
   "cell_type": "code",
   "execution_count": null,
   "metadata": {},
   "outputs": [],
   "source": [
    "# Create subset for the Mid-west region\n",
    "midwest_customer = df_ords_prods_big.loc[df_ords_prods_big['region'] == 'Midwest']"
   ]
  },
  {
   "cell_type": "code",
   "execution_count": null,
   "metadata": {},
   "outputs": [],
   "source": [
    "# Count the number of users\n",
    "midwest_customer['user_id'].value_counts().sum()"
   ]
  },
  {
   "cell_type": "code",
   "execution_count": null,
   "metadata": {},
   "outputs": [],
   "source": [
    "# Customer profile count\n",
    "midwest_customer['customer_profile'].value_counts()"
   ]
  },
  {
   "cell_type": "code",
   "execution_count": null,
   "metadata": {},
   "outputs": [],
   "source": [
    "# Marriage status count\n",
    "midwest_customer['fam_status'].value_counts()"
   ]
  },
  {
   "cell_type": "code",
   "execution_count": null,
   "metadata": {},
   "outputs": [],
   "source": [
    "# Number of dependant count\n",
    "midwest_customer['dependants'].value_counts()"
   ]
  },
  {
   "cell_type": "code",
   "execution_count": null,
   "metadata": {},
   "outputs": [],
   "source": [
    "# Total spending of the South customers\n",
    "midwest_customer['prices'].sum()"
   ]
  },
  {
   "cell_type": "code",
   "execution_count": null,
   "metadata": {},
   "outputs": [],
   "source": [
    "# Customer spending statistics\n",
    "midwest_customer['prices'].describe()"
   ]
  },
  {
   "cell_type": "code",
   "execution_count": null,
   "metadata": {},
   "outputs": [],
   "source": [
    "# Spending habbits outlook\n",
    "midwest_customer['spending_flag'].value_counts(dropna= False)"
   ]
  },
  {
   "cell_type": "code",
   "execution_count": null,
   "metadata": {},
   "outputs": [],
   "source": [
    "# Top 10 goods by order\n",
    "midwest_customer['product_name'].value_counts(dropna =  False ).sort_values(ascending = False).head(10)"
   ]
  },
  {
   "cell_type": "code",
   "execution_count": null,
   "metadata": {},
   "outputs": [],
   "source": [
    "# The most counts of order by departments\n",
    "midwest_customer['department_id'].value_counts(dropna= False).sort_values(ascending = False).head(5)"
   ]
  },
  {
   "cell_type": "code",
   "execution_count": null,
   "metadata": {},
   "outputs": [],
   "source": [
    "# Produce, dairy eggs, and snacks are the top 3 popular departments for order"
   ]
  },
  {
   "cell_type": "code",
   "execution_count": null,
   "metadata": {},
   "outputs": [],
   "source": [
    "# Brand loyalty check\n",
    "midwest_customer['loyalty_flag'].value_counts(dropna= False)"
   ]
  },
  {
   "cell_type": "code",
   "execution_count": null,
   "metadata": {},
   "outputs": [],
   "source": [
    "# Order frequency check\n",
    "midwest_customer['frequency_flag'].value_counts(dropna= False)"
   ]
  },
  {
   "cell_type": "code",
   "execution_count": null,
   "metadata": {},
   "outputs": [],
   "source": [
    "# The number of order check\n",
    "midwest_customer['customer_activity'].value_counts(dropna= False)"
   ]
  },
  {
   "cell_type": "code",
   "execution_count": null,
   "metadata": {},
   "outputs": [],
   "source": [
    "# 7.4 The Northeast"
   ]
  },
  {
   "cell_type": "code",
   "execution_count": null,
   "metadata": {},
   "outputs": [],
   "source": [
    "# Create subset for the North-east region\n",
    "northeast_customer = df_ords_prods_big.loc[df_ords_prods_big['region'] == 'Northeast']"
   ]
  },
  {
   "cell_type": "code",
   "execution_count": null,
   "metadata": {},
   "outputs": [],
   "source": [
    "# Count the number of users\n",
    "northeast_customer['user_id'].value_counts().sum()"
   ]
  },
  {
   "cell_type": "code",
   "execution_count": null,
   "metadata": {},
   "outputs": [],
   "source": [
    "# Customer profile count\n",
    "northeast_customer['customer_profile'].value_counts()"
   ]
  },
  {
   "cell_type": "code",
   "execution_count": null,
   "metadata": {},
   "outputs": [],
   "source": [
    "# Marriage status count\n",
    "northeast_customer['fam_status'].value_counts()"
   ]
  },
  {
   "cell_type": "code",
   "execution_count": null,
   "metadata": {},
   "outputs": [],
   "source": [
    "# Number of dependant count\n",
    "northeast_customer['dependants'].value_counts()"
   ]
  },
  {
   "cell_type": "code",
   "execution_count": null,
   "metadata": {},
   "outputs": [],
   "source": [
    "# Total spending of the South customers\n",
    "northeast_customer['prices'].sum()"
   ]
  },
  {
   "cell_type": "code",
   "execution_count": null,
   "metadata": {},
   "outputs": [],
   "source": [
    "# Customer spending statistics\n",
    "northeast_customer['prices'].describe()"
   ]
  },
  {
   "cell_type": "code",
   "execution_count": null,
   "metadata": {},
   "outputs": [],
   "source": [
    "# Spending habbits outlook\n",
    "northeast_customer['spending_flag'].value_counts(dropna= False)"
   ]
  },
  {
   "cell_type": "code",
   "execution_count": null,
   "metadata": {},
   "outputs": [],
   "source": [
    "# Top 10 goods by order\n",
    "northeast_customer['product_name'].value_counts(dropna =  False ).sort_values(ascending = False).head(10)"
   ]
  },
  {
   "cell_type": "code",
   "execution_count": null,
   "metadata": {},
   "outputs": [],
   "source": [
    "# The most counts of order by departments\n",
    "northeast_customer['department_id'].value_counts(dropna= False).sort_values(ascending = False).head(5)"
   ]
  },
  {
   "cell_type": "code",
   "execution_count": null,
   "metadata": {},
   "outputs": [],
   "source": [
    "# Produce, dairy eggs, and snacks are the top 3 popular departments for order"
   ]
  },
  {
   "cell_type": "code",
   "execution_count": null,
   "metadata": {},
   "outputs": [],
   "source": [
    "# Brand loyalty check\n",
    "northeast_customer['loyalty_flag'].value_counts(dropna= False)"
   ]
  },
  {
   "cell_type": "code",
   "execution_count": null,
   "metadata": {},
   "outputs": [],
   "source": [
    "# Order frequency check\n",
    "northeast_customer['frequency_flag'].value_counts(dropna= False)"
   ]
  },
  {
   "cell_type": "code",
   "execution_count": null,
   "metadata": {},
   "outputs": [],
   "source": [
    "# The number of order check\n",
    "northeast_customer['customer_activity'].value_counts(dropna= False)"
   ]
  },
  {
   "cell_type": "code",
   "execution_count": null,
   "metadata": {},
   "outputs": [],
   "source": [
    "# 8 Visualizations"
   ]
  },
  {
   "cell_type": "code",
   "execution_count": null,
   "metadata": {},
   "outputs": [],
   "source": [
    "# Viz of the busiest day of week for order\n",
    "busiest_dow = df_ords_prods_big['order_day_of_week'].plot.hist(bins = 20, color = '#4c627f')\n",
    "\n",
    "plt.xlabel('Order Day of Week')  # Label for the x-axis\n",
    "plt.title('Histogram of Order Day of Week') # Chart title"
   ]
  },
  {
   "cell_type": "code",
   "execution_count": null,
   "metadata": {},
   "outputs": [],
   "source": [
    "# Viz of the busiest hour of day for order\n",
    "busiest_hod = df_ords_prods_big['order_hour_of_day'].plot.hist(bins = 24, color = '#7f95b2')\n",
    "\n",
    "plt.xlabel('Order Time of Day')  # Label for the x-axis\n",
    "plt.title('Histogram of Order Time of Day')  # Title of the bar chart"
   ]
  },
  {
   "cell_type": "code",
   "execution_count": null,
   "metadata": {},
   "outputs": [],
   "source": [
    "# Create Sample data\n",
    "np.random.seed(4)\n",
    "dev = np.random.rand(len(df_ords_prods_big)) <= 0.7\n",
    "\n",
    "# Store 70% of the sample in the data frame big\n",
    "big = df_ords_prods_big[dev]\n",
    "# Store 30% of the sample in the data frame small\n",
    "small = df_ords_prods_big[~dev]"
   ]
  },
  {
   "cell_type": "code",
   "execution_count": null,
   "metadata": {},
   "outputs": [],
   "source": [
    "# Create line chart with random small sample data of the dataset to discover the insight of the price of goods and the order time of the day\n",
    "\n",
    "tod_price = sns.lineplot(data = small, x = 'order_hour_of_day',y = 'prices',color = '#5f7b9f')\n",
    "\n",
    "plt.xlabel('Order Time of Day')  # Label for the x-axis\n",
    "plt.title('Trend of Product Price with Order Time')  # Title of the bar chart"
   ]
  },
  {
   "cell_type": "code",
   "execution_count": null,
   "metadata": {},
   "outputs": [],
   "source": [
    "# Save figure\n",
    "tod_price.figure.savefig(os.path.join(path, '04 Analysis','Visualizations', 'tod_price.png'))"
   ]
  },
  {
   "cell_type": "code",
   "execution_count": null,
   "metadata": {},
   "outputs": [],
   "source": [
    "# Create line chart with random small sample data of the dataset\n",
    "\n",
    "dow_price = sns.lineplot(data = small, x = 'order_day_of_week',y = 'prices',color = '#5f7b9f')\n",
    "\n",
    "plt.xlabel('Order Day of Week')  # Label for the x-axis\n",
    "plt.title('Trend of Product Price with Order Day')  # Title of the bar chart"
   ]
  },
  {
   "cell_type": "code",
   "execution_count": null,
   "metadata": {},
   "outputs": [],
   "source": [
    "# Save figure\n",
    "dow_price.figure.savefig(os.path.join(path, '04 Analysis','Visualizations', 'dow_price.png'))"
   ]
  },
  {
   "cell_type": "code",
   "execution_count": null,
   "metadata": {},
   "outputs": [],
   "source": [
    "# Price range order count\n",
    "df_ords_prods_big['price_range'].value_counts(dropna= False)"
   ]
  },
  {
   "cell_type": "code",
   "execution_count": null,
   "metadata": {},
   "outputs": [],
   "source": [
    "# Data to plot\n",
    "labels = ['Mid-range', 'Low-range', 'High-range']\n",
    "sizes = [67, 31, 2]  # These values represent the percentages of each category\n",
    "colors = ['#4d84a8', '#15adbb', '#f88a10']\n",
    "\n",
    "\n",
    "# Plot\n",
    "plt.figure(figsize=(4.5, 4.5))  # Set the size of the plot\n",
    "plt.pie(sizes,  labels=labels, colors=colors, autopct='%1.1f%%',startangle=140  )\n",
    "plt.axis('equal')  # Equal aspect ratio ensures that pie is drawn as a circle.\n",
    "plt.title('Customer Order Price Range')  # Title of the bar chart\n",
    "\n",
    "# Save figure\n",
    "plt.savefig(os.path.join(path, '04 Analysis','Visualizations', 'price_range_product_order_count.png'))"
   ]
  },
  {
   "cell_type": "code",
   "execution_count": null,
   "metadata": {},
   "outputs": [],
   "source": [
    "#Finding most popular products\n",
    "favor_prod=df_ords_prods_big['product_name'].value_counts(dropna=False).head(10).sort_values(ascending= True).plot.barh(color=['#394a5f'])\n",
    "\n",
    "plt.title('Top 10 Products for Ordering') # Chart title\n",
    "plt.xlabel('Order Count')  # Label for the x-axis\n",
    "plt.ylabel(' ')  # Label for the y-axis"
   ]
  },
  {
   "cell_type": "code",
   "execution_count": null,
   "metadata": {},
   "outputs": [],
   "source": [
    "# Finding most popular products\n",
    "favor_dept=df_ords_prods_big['department_id'].value_counts(dropna=False).head(10)"
   ]
  },
  {
   "cell_type": "code",
   "execution_count": null,
   "metadata": {},
   "outputs": [],
   "source": [
    "# Setting figure size\n",
    "plt.figure(figsize=(8, 6))\n",
    "\n",
    "#Finding most popular department\n",
    "favor_dept=df_ords_prods_big['department_id'].value_counts(dropna=False).sort_values(ascending= True).plot.barh(color=['#394a5f'])\n",
    "\n",
    "plt.title('Popular Goods Department') # Chart title\n",
    "plt.xlabel('Order Count')  # Label for the x-axis\n",
    "plt.ylabel('Department ID')  # Label for the y-axis"
   ]
  },
  {
   "cell_type": "code",
   "execution_count": null,
   "metadata": {},
   "outputs": [],
   "source": [
    "favor_dept.figure.savefig(os.path.join(path, '04 Analysis','Visualizations', 'department.png'))"
   ]
  },
  {
   "cell_type": "code",
   "execution_count": null,
   "metadata": {},
   "outputs": [],
   "source": [
    "# Create bar chart for brand loyalty user count\n",
    "df_ords_prods_big['loyalty_flag'].value_counts().plot.bar(color =['#394a5f', '#5f7b9f', '#9fb0c5'])\n",
    "\n",
    "plt.xticks(rotation=0) # x-axis lable angle\n",
    "plt.title('Brand Loyalty User Distribution') # Chart title\n",
    "plt.ylabel('User Count by million')  # Label for the y-axis\n",
    "plt.xlabel(' ') # Label for the x-axis\n",
    "\n",
    "plt.savefig(os.path.join(path, '04 Analysis','Visualizations', 'loyalty_user.png')) # Save figure"
   ]
  },
  {
   "cell_type": "code",
   "execution_count": null,
   "metadata": {},
   "outputs": [],
   "source": [
    "# Group spending flag by loyalty flag\n",
    "grouped_counts = df_ords_prods_big.groupby(['loyalty_flag', 'spending_flag']).size().unstack()\n",
    "\n",
    "# Plot the bar plot with color coding\n",
    "grouped_counts.plot(kind='bar', color=['#d35b4d','#5f7b9f'])\n",
    "\n",
    "# Add labels and title\n",
    "plt.legend(title=None)\n",
    "plt.xlabel(' ')\n",
    "plt.ylabel('User Count by million')\n",
    "plt.title('Spending Habbits by Brand Loyalty')\n",
    "plt.xticks(rotation=0)\n",
    "\n",
    "plt.savefig(os.path.join(path, '04 Analysis','Visualizations', 'loyalty_spending.png')) # Save figure"
   ]
  },
  {
   "cell_type": "code",
   "execution_count": null,
   "metadata": {},
   "outputs": [],
   "source": [
    "# Group frequency flag by loyalty flag\n",
    "grouped_counts = df_ords_prods_big.groupby(['loyalty_flag', 'frequency_flag']).size().unstack()\n",
    "\n",
    "# Plot the bar plot with color coding\n",
    "grouped_counts.plot(kind='bar', color=['#4d84a8', '#15adbb', '#f88a10','#df5d5c'])\n",
    "\n",
    "# Add labels and title\n",
    "plt.legend(title=None)\n",
    "plt.xlabel(' ')\n",
    "plt.ylabel('User Count by million')\n",
    "plt.title('Order Frequency by Brand Loyalty')\n",
    "plt.xticks(rotation=0)\n",
    "\n",
    "plt.savefig(os.path.join(path, '04 Analysis','Visualizations', 'loyalty_freqt.png')) # Save figure"
   ]
  },
  {
   "cell_type": "code",
   "execution_count": null,
   "metadata": {},
   "outputs": [],
   "source": [
    "# Group customer activity by loyalty flag\n",
    "grouped_counts = df_ords_prods_big.groupby(['loyalty_flag', 'customer_activity']).size().unstack()\n",
    "\n",
    "# Plot the bar plot with color coding\n",
    "grouped_counts.plot(kind='bar', color=['#d35b4d','#5f7b9f'])\n",
    "\n",
    "# Add labels and title\n",
    "plt.legend(title=None)\n",
    "plt.xlabel(' ')\n",
    "plt.ylabel('User Count by million')\n",
    "plt.title('Customer Activity by Loyalty Status')\n",
    "plt.xticks(rotation=0)\n",
    "\n",
    "plt.savefig(os.path.join(path, '04 Analysis','Visualizations', 'loyalty_act.png')) # Save figure"
   ]
  },
  {
   "cell_type": "code",
   "execution_count": null,
   "metadata": {},
   "outputs": [],
   "source": [
    "# Create a subset to analyze customer ordering habbits.\n",
    "user_ord_hab = df_ords_prods_big[['user_id','region','age','income','product_name','department_id','fam_status','loyalty_flag','frequency_flag','price_range','spending_flag','customer_activity','customer_profile']]"
   ]
  },
  {
   "cell_type": "code",
   "execution_count": null,
   "metadata": {},
   "outputs": [],
   "source": [
    "# Group loyalty flag by region\n",
    "grouped_counts = user_ord_hab.groupby(['region', 'loyalty_flag']).size().unstack()\n",
    "\n",
    "# Plot the bar plot with color coding\n",
    "grouped_counts.plot(kind='bar', color=['#4d84a8', '#15adbb', '#f88a10','#df5d5c'])\n",
    "\n",
    "# Add labels and title\n",
    "plt.legend(title=None)\n",
    "plt.xlabel(' ')\n",
    "plt.ylabel('User Count by million')\n",
    "plt.title('Brand Loyalty by Region')\n",
    "plt.xticks(rotation=0)\n",
    "\n",
    "plt.savefig(os.path.join(path, '04 Analysis','Visualizations', 'region_loy.png')) # Save figure"
   ]
  },
  {
   "cell_type": "code",
   "execution_count": null,
   "metadata": {},
   "outputs": [],
   "source": [
    "# Group spending flag by region\n",
    "grouped_counts = user_ord_hab.groupby(['region', 'spending_flag']).size().unstack()\n",
    "\n",
    "# Plot the bar plot with color coding\n",
    "grouped_counts.plot(kind='bar', color=['#d35b4d','#5f7b9f'])\n",
    "\n",
    "# Add labels and title\n",
    "plt.legend(title=None)\n",
    "plt.xlabel(' ')\n",
    "plt.ylabel('User Count by million')\n",
    "plt.title('Spending Habbits by Region')\n",
    "plt.xticks(rotation=0)\n",
    "\n",
    "plt.savefig(os.path.join(path, '04 Analysis','Visualizations', 'region_spd.png')) # Save figure"
   ]
  },
  {
   "cell_type": "code",
   "execution_count": null,
   "metadata": {},
   "outputs": [],
   "source": [
    "# Group order frequncy by region\n",
    "grouped_counts = user_ord_hab.groupby(['region', 'frequency_flag']).size().unstack()\n",
    "\n",
    "# Plot the bar plot with color coding\n",
    "grouped_counts.plot(kind='bar', color=['#4d84a8', '#15adbb', '#f88a10','#df5d5c'])\n",
    "\n",
    "# Add labels and title\n",
    "plt.legend(title=None)\n",
    "plt.xlabel(' ')\n",
    "plt.ylabel('User Count by million')\n",
    "plt.title('Order Frequency by Region')\n",
    "plt.xticks(rotation=0)\n",
    "\n",
    "plt.savefig(os.path.join(path, '04 Analysis','Visualizations', 'region_frqt.png')) # Save figure"
   ]
  },
  {
   "cell_type": "code",
   "execution_count": null,
   "metadata": {},
   "outputs": [],
   "source": [
    "# Define age groups\n",
    "user_ord_hab.loc[(user_ord_hab['age'] >= 18) & (user_ord_hab['age'] <= 40) ,'age_profile'] = 'young adult'\n",
    "user_ord_hab.loc[(user_ord_hab['age'] > 40) & (user_ord_hab['age'] <= 60) ,'age_profile'] = 'mid-age'\n",
    "user_ord_hab.loc[(user_ord_hab['age'] > 60) & (user_ord_hab['age'] <= 81) ,'age_profile'] = 'senior'"
   ]
  },
  {
   "cell_type": "code",
   "execution_count": null,
   "metadata": {},
   "outputs": [],
   "source": [
    "# Brand Loyalty by age groups\n",
    "\n",
    "grouped_counts = user_ord_hab.groupby(['age_profile', 'loyalty_flag']).size().unstack()\n",
    "\n",
    "# Plot the bar plot with color coding\n",
    "grouped_counts.plot(kind='bar', color=['#4d84a8', '#15adbb', '#f88a10','#df5d5c'])\n",
    "\n",
    "# Add labels and title\n",
    "plt.legend(title=None)\n",
    "plt.xlabel(' ')\n",
    "plt.ylabel('User Count')\n",
    "plt.title('Brand Loyalty by Age Groups')\n",
    "plt.xticks(rotation=0)\n",
    "\n",
    "plt.savefig(os.path.join(path, '04 Analysis','Visualizations', 'age_loyal.png')) # Save figure"
   ]
  },
  {
   "cell_type": "code",
   "execution_count": null,
   "metadata": {},
   "outputs": [],
   "source": [
    "# Spending habit by age groups\n",
    "\n",
    "grouped_counts = user_ord_hab.groupby(['age_profile', 'spending_flag']).size().unstack()\n",
    "\n",
    "# Plot the bar plot with color coding\n",
    "grouped_counts.plot(kind='bar', color=['#4d84a8', '#f88a10'])\n",
    "\n",
    "# Add labels and title\n",
    "plt.legend(title=None)\n",
    "plt.xlabel(' ')\n",
    "plt.ylabel('User Count')\n",
    "plt.title('Spending Habbits by Age Groups')\n",
    "plt.xticks(rotation=0)\n",
    "\n",
    "plt.savefig(os.path.join(path, '04 Analysis','Visualizations', 'age_sped.png')) # Save figure"
   ]
  },
  {
   "cell_type": "code",
   "execution_count": null,
   "metadata": {},
   "outputs": [],
   "source": [
    "# Order frequency by age groups\n",
    "\n",
    "grouped_counts = user_ord_hab.groupby(['age_profile', 'frequency_flag']).size().unstack()\n",
    "\n",
    "# Plot the bar plot with color coding\n",
    "grouped_counts.plot(kind='bar', color=['#df5d5c','#4d84a8', '#f88a10'])\n",
    "\n",
    "# Add labels and title\n",
    "plt.legend(title=None)\n",
    "plt.xlabel(' ')\n",
    "plt.ylabel('User Count')\n",
    "plt.title('Order Frequency by Age Groups')\n",
    "plt.xticks(rotation=0)\n",
    "\n",
    "plt.savefig(os.path.join(path, '04 Analysis','Visualizations', 'age_freq.png')) # Save figure"
   ]
  },
  {
   "cell_type": "code",
   "execution_count": null,
   "metadata": {},
   "outputs": [],
   "source": [
    "# Brand loyalty by famiy status\n",
    "\n",
    "grouped_counts = user_ord_hab.groupby(['fam_status', 'loyalty_flag']).size().unstack()\n",
    "\n",
    "# Plot the bar plot with color coding\n",
    "grouped_counts.plot(kind='bar', color=['#4d84a8', '#15adbb', '#f88a10'])\n",
    "\n",
    "# Add labels and title\n",
    "plt.legend(title=None)\n",
    "plt.xlabel(' ')\n",
    "plt.ylabel('User Count')\n",
    "plt.title('Brand Loyalty by Family Status')\n",
    "plt.xticks(rotation=10)\n",
    "\n",
    "plt.savefig(os.path.join(path, '04 Analysis','Visualizations', 'fam_loyal.png')) # Save figure"
   ]
  },
  {
   "cell_type": "code",
   "execution_count": null,
   "metadata": {},
   "outputs": [],
   "source": [
    "# Spending habbits by famiy status\n",
    "\n",
    "grouped_counts = user_ord_hab.groupby(['fam_status', 'spending_flag']).size().unstack()\n",
    "\n",
    "# Plot the bar plot with color coding\n",
    "grouped_counts.plot(kind='bar', color=['#df5d5c','#4d84a8', '#f88a10'])\n",
    "\n",
    "# Add labels and title\n",
    "plt.legend(title=None)\n",
    "plt.xlabel(' ')\n",
    "plt.ylabel('User Count')\n",
    "plt.title('Spending Habbits by Family Status')\n",
    "plt.xticks(rotation=10)\n",
    "\n",
    "plt.savefig(os.path.join(path, '04 Analysis','Visualizations', 'fam_sped.png')) # Save figure"
   ]
  },
  {
   "cell_type": "code",
   "execution_count": null,
   "metadata": {},
   "outputs": [],
   "source": [
    "# Order frequency by famiy status\n",
    "\n",
    "grouped_counts = user_ord_hab.groupby(['fam_status', 'frequency_flag']).size().unstack()\n",
    "\n",
    "# Plot the bar plot with color coding\n",
    "grouped_counts.plot(kind='bar', color=['#4d84a8', '#15adbb', '#f88a10'])\n",
    "\n",
    "# Add labels and title\n",
    "plt.legend(title=None)\n",
    "plt.xlabel(' ')\n",
    "plt.ylabel('User Count')\n",
    "plt.title('Order Frequency by Family Status')\n",
    "plt.xticks(rotation=10)\n",
    "\n",
    "plt.savefig(os.path.join(path, '04 Analysis','Visualizations', 'fam_freq.png')) # Save figure"
   ]
  },
  {
   "cell_type": "code",
   "execution_count": null,
   "metadata": {},
   "outputs": [],
   "source": [
    "# Define income groups\n",
    "user_ord_hab.loc[(user_ord_hab['income'] < 62636) ,'income_profile'] = 'low-income'\n",
    "user_ord_hab.loc[(user_ord_hab['income'] >=62636) & (user_ord_hab['income'] < 95450) ,'income_profile'] = 'lower-middle-class'\n",
    "user_ord_hab.loc[(user_ord_hab['income'] >= 95450) & (user_ord_hab['income'] < 133392) ,'income_profile'] = 'upper-middle-class'\n",
    "user_ord_hab.loc[(user_ord_hab['income'] >= 133392) ,'income_profile'] = 'upper-class'"
   ]
  },
  {
   "cell_type": "code",
   "execution_count": null,
   "metadata": {},
   "outputs": [],
   "source": [
    "# Brand loyalty by income profile\n",
    "\n",
    "grouped_counts = user_ord_hab.groupby(['income_profile', 'loyalty_flag']).size().unstack()\n",
    "\n",
    "# Plot the bar plot with color coding\n",
    "grouped_counts.plot(kind='bar', color=['#4d84a8', '#15adbb', '#f88a10'])\n",
    "\n",
    "# Add labels and title\n",
    "plt.legend(title=None)\n",
    "plt.xlabel(' ')\n",
    "plt.ylabel('User Count')\n",
    "plt.title('Brand Loyalty by Income')\n",
    "plt.xticks(rotation=0)\n",
    "\n",
    "plt.savefig(os.path.join(path, '04 Analysis','Visualizations', 'in_loyal.png')) # Save figure"
   ]
  },
  {
   "cell_type": "code",
   "execution_count": null,
   "metadata": {},
   "outputs": [],
   "source": [
    "# Spending habbits by income profile\n",
    "\n",
    "grouped_counts = user_ord_hab.groupby(['income_profile', 'spending_flag']).size().unstack()\n",
    "\n",
    "# Plot the bar plot with color coding\n",
    "grouped_counts.plot(kind='bar', color=['#4d84a8',  '#f88a10'])\n",
    "\n",
    "# Add labels and title\n",
    "plt.legend(title=None)\n",
    "plt.xlabel(' ')\n",
    "plt.ylabel('User Count')\n",
    "plt.title('Spending Habbits by Income')\n",
    "plt.xticks(rotation=0)\n",
    "\n",
    "plt.savefig(os.path.join(path, '04 Analysis','Visualizations', 'in_sped.png')) # Save figure"
   ]
  },
  {
   "cell_type": "code",
   "execution_count": null,
   "metadata": {},
   "outputs": [],
   "source": [
    "# Order frequency by income profile\n",
    "\n",
    "grouped_counts = user_ord_hab.groupby(['income_profile', 'frequency_flag']).size().unstack()\n",
    "\n",
    "# Plot the bar plot with color coding\n",
    "grouped_counts.plot(kind='bar', color=['#4d84a8', '#15adbb', '#f88a10'])\n",
    "\n",
    "# Add labels and title\n",
    "plt.legend(title=None)\n",
    "plt.xlabel(' ')\n",
    "plt.ylabel('User Count')\n",
    "plt.title('Order Frequency by Income')\n",
    "plt.xticks(rotation=0)\n",
    "\n",
    "plt.savefig(os.path.join(path, '04 Analysis','Visualizations', 'in_freq.png')) # Save figure"
   ]
  },
  {
   "cell_type": "code",
   "execution_count": null,
   "metadata": {},
   "outputs": [],
   "source": [
    "# Define target segment\n",
    "Target_segment = user_ord_hab.loc[\n",
    "    (user_ord_hab['age_profile'] == 'young adult') &\n",
    "    ((user_ord_hab['income_profile'] == 'upper-middle-class') | (user_ord_hab['income_profile'] == 'lower-middle-class')) &\n",
    "    (user_ord_hab['fam_status'] == 'married')\n",
    "]"
   ]
  },
  {
   "cell_type": "code",
   "execution_count": null,
   "metadata": {},
   "outputs": [],
   "source": [
    "# The popular departments for the target segment\n",
    "Target_segment['department_id'].value_counts().sort_values(ascending= False ).head(5).plot(kind='bar', color=['#403990', '#80a6e2', '#fbdd85','#f46f43','#cf3d3e'])\n",
    "plt.xticks(rotation=0)\n",
    "\n",
    "\n",
    "# Add labels and title\n",
    "plt.xlabel('Department ID ')\n",
    "plt.title('Favorite Departments for Target Segment')\n",
    "plt.xticks(rotation=0)\n",
    "\n",
    "plt.savefig(os.path.join(path, '04 Analysis','Visualizations', 'faovr_dept_target.png')) # Save figure"
   ]
  },
  {
   "cell_type": "code",
   "execution_count": null,
   "metadata": {},
   "outputs": [],
   "source": [
    "# Group price range order by customer profile\n",
    "grouped_counts = user_ord_hab.groupby(['customer_profile', 'price_range']).size().unstack().sort_values(by= 'High-range product', ascending = False)\n",
    "\n",
    "# Plot in to chart\n",
    "grouped_counts.plot(kind='barh', color = ['#4d84a8','#15adbb','#f88a10'])\n",
    "\n",
    "# Add labels and title\n",
    "plt.ylabel(' ')\n",
    "plt.title('Price Range by Customer Profile')\n",
    "plt.legend(title =None)\n",
    "\n",
    "\n",
    "plt.savefig(os.path.join(path, '04 Analysis','Visualizations', 'price_cus_pro.png')) # Save figure"
   ]
  },
  {
   "cell_type": "code",
   "execution_count": null,
   "metadata": {},
   "outputs": [],
   "source": [
    "# Group price range order by customer profile\n",
    "grouped_counts = user_ord_hab.groupby(['customer_profile', 'frequency_flag']).size().unstack()\n",
    "\n",
    "# Plot in to chart\n",
    "grouped_counts.plot(kind='barh', color = ['#4d84a8','#15adbb','#f88a10'])\n",
    "\n",
    "# Add labels and title\n",
    "plt.ylabel(' ')\n",
    "plt.title('Order Freqency by Customer Profile')\n",
    "plt.legend(title =None)\n",
    "\n",
    "\n",
    "plt.savefig(os.path.join(path, '04 Analysis','Visualizations', 'freqt_cus_pro.png')) # Save figure"
   ]
  },
  {
   "cell_type": "code",
   "execution_count": null,
   "metadata": {},
   "outputs": [],
   "source": [
    "# Group customer profile by department id\n",
    "grouped_counts = user_ord_hab.groupby(['department_id', 'customer_profile']).size().unstack()\n",
    "\n",
    "# Plot in to chart\n",
    "grouped_counts.plot(kind='bar')\n",
    "\n",
    "# Add label and title\n",
    "plt.legend(title=None, bbox_to_anchor=(1.05, 1), loc='upper left')\n",
    "plt.xticks(rotation=0)\n",
    "plt.xlabel('Department ID')\n",
    "plt.title('Popular Department by Customer Profile')\n",
    "\n",
    "plt.savefig(os.path.join(path, '04 Analysis','Visualizations', 'prod_cust.png')) # Save figure"
   ]
  },
  {
   "cell_type": "code",
   "execution_count": null,
   "metadata": {},
   "outputs": [],
   "source": []
  }
 ],
 "metadata": {
  "kernelspec": {
   "display_name": "Python 3",
   "language": "python",
   "name": "python3"
  },
  "language_info": {
   "codemirror_mode": {
    "name": "ipython",
    "version": 3
   },
   "file_extension": ".py",
   "mimetype": "text/x-python",
   "name": "python",
   "nbconvert_exporter": "python",
   "pygments_lexer": "ipython3",
   "version": "3.11.9"
  }
 },
 "nbformat": 4,
 "nbformat_minor": 2
}
